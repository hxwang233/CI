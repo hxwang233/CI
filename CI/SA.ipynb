{
 "cells": [
  {
   "cell_type": "code",
   "execution_count": 8,
   "metadata": {},
   "outputs": [],
   "source": [
    "import numpy as np\n",
    "import random\n",
    "import pandas as pd\n",
    "from scipy.spatial.distance import pdist\n",
    "from scipy.spatial.distance import squareform\n",
    "import matplotlib.pyplot as plt"
   ]
  },
  {
   "cell_type": "code",
   "execution_count": 9,
   "metadata": {},
   "outputs": [],
   "source": [
    "data = np.array(pd.read_excel(\"../dataSet/Oliver30.xlsx\",header=None))"
   ]
  },
  {
   "cell_type": "code",
   "execution_count": 10,
   "metadata": {},
   "outputs": [
    {
     "data": {
      "image/png": "[encoded data removed]",
      "text/plain": [
       "<Figure size 432x288 with 1 Axes>"
      ]
     },
     "metadata": {
      "needs_background": "light"
     },
     "output_type": "display_data"
    }
   ],
   "source": [
    "plt.title(\"Cities\")\n",
    "plt.scatter(data[:,0],data[:,1],s=5)\n",
    "plt.show()"
   ]
  },
  {
   "cell_type": "code",
   "execution_count": 11,
   "metadata": {},
   "outputs": [],
   "source": [
    "class SA_4_TSP():\n",
    "    def __init__(self, data, max_epoch, alpha):\n",
    "        self.cityNums  = data.shape[0]  # 城市数目\n",
    "        self.max_epoch = max_epoch # 最大迭代次数\n",
    "        self.alpha = alpha # 降温系数\n",
    "        self.dist = squareform(pdist(data, metric='euclidean'))  # 计算N个城市的距离矩阵\n",
    "        self.L = int(self.cityNums * (self.cityNums - 1) / 2)   # 平衡参数\n",
    "        self.solution = random.sample(range(self.cityNums), self.cityNums) # 初始解-城市的全排列 list类型\n",
    "        self.value = self.calcuValue(self.solution)  # 计算当前状态值\n",
    "        self.T = self.initT() # 初始化温度\n",
    "        self.T0 = self.T\n",
    "        return\n",
    "    \n",
    "    def calcuValue(self, solution):  # 计算状态值\n",
    "        value = 0\n",
    "        for c in range(self.cityNums-1):\n",
    "            value += self.dist[solution[c], solution[c+1]]\n",
    "        value += self.dist[solution[0], solution[-1]]\n",
    "        return value\n",
    "    \n",
    "    def pick_from_Nx(self, x):  # 从当前状态领域中挑选一个状态\n",
    "        # input x - 当前解 - 一个城市的全排列\n",
    "        # return 城市的全排列 list类型\n",
    "        exchange_index = sorted(random.sample(range(self.cityNums), 2))\n",
    "        solution = x.copy()\n",
    "        solution[exchange_index[0]] = self.solution[exchange_index[1]]\n",
    "        solution[exchange_index[1]] = self.solution[exchange_index[0]]\n",
    "        return solution\n",
    "    \n",
    "    def initT(self):  # 初始化温度\n",
    "        T = self.cityNums * self.L\n",
    "        return T \n",
    "    \n",
    "    def coolDown(self, k):  # 快速降温\n",
    "        T = self.alpha * self.T \n",
    "        return T\n",
    "    \n",
    "    def evolute(self):  # 模拟退火过程\n",
    "        t = 0 # 迭代次数\n",
    "        while t < self.max_epoch:\n",
    "            t += 1 # 当前迭代次数\n",
    "            for i in range(self.L):\n",
    "                newx = self.pick_from_Nx(self.solution)\n",
    "                v = self.calcuValue(newx)\n",
    "                delta = v - self.value   # 状态差值\n",
    "                if delta < 0: # 更新状态\n",
    "                    self.solution = newx  \n",
    "                    self.value = v\n",
    "                else:\n",
    "                    r = random.random()\n",
    "                    # 判断是否更新\n",
    "                    if r <= np.exp(-delta / self.T):\n",
    "                        self.solution = newx\n",
    "                        self.value = v\n",
    "            self.T = self.coolDown(t)  # 降温\n",
    "        print('最优解:', self.solution)\n",
    "        print('最优值:', self.value)\n",
    "        return self.value, self.solution"
   ]
  },
  {
   "cell_type": "code",
   "execution_count": 12,
   "metadata": {},
   "outputs": [],
   "source": [
    "max_epoch = 500\n",
    "alpha = 0.93 # 降温系数"
   ]
  },
  {
   "cell_type": "code",
   "execution_count": 13,
   "metadata": {},
   "outputs": [
    {
     "name": "stdout",
     "output_type": "stream",
     "text": [
      "最优解: [16, 28, 26, 27, 15, 21, 22, 29, 5, 0, 1, 10, 6, 7, 25, 24, 23, 14, 13, 9, 20, 19, 18, 17, 2, 8, 3, 12, 4, 11]\n",
      "最优值: 488.6962283736401\n"
     ]
    }
   ],
   "source": [
    "sa = SA_4_TSP(data, max_epoch, alpha)\n",
    "value, solution = sa.evolute()"
   ]
  },
  {
   "cell_type": "code",
   "execution_count": 14,
   "metadata": {},
   "outputs": [
    {
     "data": {
      "image/png": "[encoded data removed]",
      "text/plain": [
       "<Figure size 432x288 with 1 Axes>"
      ]
     },
     "metadata": {
      "needs_background": "light"
     },
     "output_type": "display_data"
    }
   ],
   "source": [
    "value = round(value,2)\n",
    "plt.title(\"Iteration: \"+str(max_epoch)+\"  Shortest distance: \"+ str(value))\n",
    "plt.scatter(data[:,0],data[:,1],s=5)\n",
    "plt.plot(data[solution,0],data[solution,1])\n",
    "#fileName = \"%s%s%s\" %(\"最短路径\",str(value),\".png\")\n",
    "#plt.savefig(fileName)\n",
    "plt.show()"
   ]
  },
  {
   "cell_type": "code",
   "execution_count": null,
   "metadata": {},
   "outputs": [],
   "source": []
  }
 ],
 "metadata": {
  "hide_input": false,
  "kernelspec": {
   "display_name": "Python 3",
   "language": "python",
   "name": "python3"
  },
  "language_info": {
   "codemirror_mode": {
    "name": "ipython",
    "version": 3
   },
   "file_extension": ".py",
   "mimetype": "text/x-python",
   "name": "python",
   "nbconvert_exporter": "python",
   "pygments_lexer": "ipython3",
   "version": "3.7.0"
  },
  "toc": {
   "base_numbering": 1,
   "nav_menu": {},
   "number_sections": true,
   "sideBar": true,
   "skip_h1_title": false,
   "title_cell": "Table of Contents",
   "title_sidebar": "Contents",
   "toc_cell": false,
   "toc_position": {},
   "toc_section_display": true,
   "toc_window_display": false
  },
  "varInspector": {
   "cols": {
    "lenName": 16,
    "lenType": 16,
    "lenVar": 40
   },
   "kernels_config": {
    "python": {
     "delete_cmd_postfix": "",
     "delete_cmd_prefix": "del ",
     "library": "var_list.py",
     "varRefreshCmd": "print(var_dic_list())"
    },
    "r": {
     "delete_cmd_postfix": ") ",
     "delete_cmd_prefix": "rm(",
     "library": "var_list.r",
     "varRefreshCmd": "cat(var_dic_list()) "
    }
   },
   "types_to_exclude": [
    "module",
    "function",
    "builtin_function_or_method",
    "instance",
    "_Feature"
   ],
   "window_display": false
  }
 },
 "nbformat": 4,
 "nbformat_minor": 2
}

{
 "cells": [
  {
   "cell_type": "code",
   "execution_count": 1,
   "metadata": {},
   "outputs": [],
   "source": [
    "import numpy as np\n",
    "import pandas as pd\n",
    "import random\n",
    "import math\n",
    "from scipy.spatial.distance import pdist\n",
    "from scipy.spatial.distance import squareform\n",
    "import matplotlib.pyplot as plt"
   ]
  },
  {
   "cell_type": "code",
   "execution_count": 2,
   "metadata": {},
   "outputs": [],
   "source": [
    "citysNum = 30\n",
    "data = np.array(pd.read_excel(\"../dataSet/cities.xlsx\",header=None))\n",
    "#data = np.random.random((citysNum,2))"
   ]
  },
  {
   "cell_type": "code",
   "execution_count": 3,
   "metadata": {},
   "outputs": [
    {
     "data": {
      "image/png": "[encoded data removed]",
      "text/plain": [
       "<Figure size 432x288 with 1 Axes>"
      ]
     },
     "metadata": {
      "needs_background": "light"
     },
     "output_type": "display_data"
    }
   ],
   "source": [
    "plt.title(\"Cities\")\n",
    "plt.scatter(data[:,0],data[:,1],s=5)\n",
    "plt.show()"
   ]
  },
  {
   "cell_type": "code",
   "execution_count": 4,
   "metadata": {},
   "outputs": [],
   "source": [
    "dist = squareform(pdist(data, metric='euclidean'))  # 计算N个城市的距离矩阵"
   ]
  },
  {
   "cell_type": "code",
   "execution_count": 5,
   "metadata": {},
   "outputs": [],
   "source": [
    "class GA_TSP():\n",
    "    def __init__(self, data, N, matingRate, variationRate ,max_epoch): # 初始化种群\n",
    "        self.N    = N    #种群数量\n",
    "        self.dist = squareform(pdist(data, metric='euclidean'))  # 计算N个城市的距离矩阵\n",
    "        self.cityNums      = data.shape[0]          # 城市数目\n",
    "        self.matingRate    = matingRate             # 交配概率\n",
    "        self.variationRate = variationRate          # 变异概率\n",
    "        self.max_epoch     = max_epoch              # 最大迭代次数\n",
    "        self.fitValues     = np.zeros((1,N))        # 适应值\n",
    "        self.bestGroup     = -np.ones((1,self.cityNums)) # 最优解\n",
    "        self.bestFitValue  = float(\"inf\")           # 最优值\n",
    "        self.bestIndex     = [-float(\"inf\"),-float(\"inf\")]  # 当前最优解的索引\n",
    "        # N次随机不放回抽样\n",
    "        groups = list()\n",
    "        for i in range(N): # 随机生成N个种群           \n",
    "            temp = random.sample(range(self.cityNums), self.cityNums)\n",
    "            groups.append(temp)\n",
    "        self.groups = np.array(groups) # 种群\n",
    "        self.calcuFitValues()\n",
    "        self.bestGroup, self.bestFitValue = self.calcuBest()\n",
    "    \n",
    "    def calcuFitValues(self):  # 计算适应性\n",
    "        for i in range(self.N):\n",
    "            fitValue = 0\n",
    "            for c in range(self.cityNums-1):\n",
    "                fitValue += self.dist[self.groups[i,c], self.groups[i,c+1]]\n",
    "            self.fitValues[0][i] = 1 / fitValue\n",
    "        return \n",
    "    \n",
    "    def calcuBest(self):  # 获取当前最优值和最优解\n",
    "        bestGroup = self.groups[np.argmax(self.fitValues[0])]\n",
    "        bestFitValue = 1 / np.max(self.fitValues[0]) \n",
    "        return bestGroup, bestFitValue\n",
    "    \n",
    "    def select(self): # 轮盘赌\n",
    "        groups = list()\n",
    "        p = self.fitValues[0] / sum(self.fitValues[0])  # 适应值比例\n",
    "        for t in range(self.N):\n",
    "            m = 0\n",
    "            r = random.random()\n",
    "            for i in range(self.N):\n",
    "                m += p[i]\n",
    "                if r < m:\n",
    "                    groups.append(self.groups[i])\n",
    "                    break\n",
    "        return np.array(groups)\n",
    "    \n",
    "    def select2(self): # 最优化保存策略\n",
    "        bestGroup = self.groups[np.argmax(self.fitValues[0])]\n",
    "        self.groups[np.argmin(self.fitValues[0])] = bestGroup.copy()\n",
    "        self.bestIndex[0] = np.argmax(self.fitValues[0])\n",
    "        self.bestIndex[1] = np.argmin(self.fitValues[0])\n",
    "        return self.groups\n",
    "    \n",
    "    def mating(self):   # 有序交叉法\n",
    "        willmate = list()\n",
    "        for k, group in enumerate(self.groups):\n",
    "            if k in self.bestIndex:\n",
    "                continue # 当前最优解不参与交配\n",
    "            r = random.random()\n",
    "            if r < self.matingRate:\n",
    "                willmate.append(group)\n",
    "        if len(willmate) >= 2 : # 交配个体大于2才进行本轮交配\n",
    "            if len(willmate) % 2 != 0:  # 交配个体为基数\n",
    "                delIndex = random.randint(0,len(willmate)-1)  #随机剔除一个\n",
    "                del willmate[delIndex]\n",
    "            matingMap = random.sample(range(len(willmate)), len(willmate))\n",
    "            for i in range(0, len(matingMap), 2):  # 有序交叉 交配过程\n",
    "                x1 = matingMap[i]\n",
    "                x2 = matingMap[i+1]\n",
    "                positions = random.sample(range(self.cityNums), 2)  # 随机两个交叉位\n",
    "                positions.sort()\n",
    "                com1  = list(willmate[x1][positions[0]:positions[1]+1])\n",
    "                com2  = list(willmate[x2][positions[0]:positions[1]+1])\n",
    "                limit = list(range(positions[0])) + list(range(positions[1]+1, self.cityNums))\n",
    "                for p in limit:            \n",
    "                    temp = willmate[x1][p]\n",
    "                    if willmate[x2][p] not in com1:\n",
    "                        willmate[x1][p] = willmate[x2][p]\n",
    "                    else:\n",
    "                        index = com1.index(willmate[x2][p])\n",
    "                        while com2[index] in com1:\n",
    "                            index = com1.index(com2[index])\n",
    "                        willmate[x1][p] = com2[index]\n",
    "                    if temp not in com2:\n",
    "                        willmate[x2][p] = temp\n",
    "                    else:\n",
    "                        index = com2.index(temp)\n",
    "                        while com1[index] in com2:\n",
    "                            index = com2.index(com1[index])\n",
    "                        willmate[x2][p] = com1[index]\n",
    "        return\n",
    "    \n",
    "    def variation(self):  # 倒置变异\n",
    "        for k, group in enumerate(self.groups):\n",
    "            if k in self.bestIndex:\n",
    "                continue # 当前最优解不变异\n",
    "            r = random.random()\n",
    "            if r < self.variationRate:\n",
    "                positions = random.sample(range(self.cityNums), 2) # 随机两个变异\n",
    "                positions.sort()\n",
    "                diff = (positions[1] - positions[0])/2\n",
    "                for i in range(positions[0], math.ceil(diff+positions[0])):  # 倒置操作\n",
    "                    temp = group[i]\n",
    "                    group[i] = group[int(i+(positions[0]+diff-i)*2)]\n",
    "                    group[int(i+(positions[0]+diff-i)*2)] = temp\n",
    "        return \n",
    "    \n",
    "    def process(self):  # 进化过程\n",
    "        t = 0  # 当前迭代次数\n",
    "        while(t < self.max_epoch):\n",
    "            t += 1\n",
    "            self.groups = self.select2()  #选择\n",
    "            self.mating() #交配\n",
    "            self.variation() #变异\n",
    "            self.calcuFitValues() #计算适应值\n",
    "            bestGroup, bestFitValue = self.calcuBest() #获取最优值和最优解\n",
    "            '''\n",
    "            if abs(bestFitValue - self.bestFitValue) < 1e-10:\n",
    "                self.bestGroup    = bestGroup\n",
    "                self.bestFitValue = bestFitValue\n",
    "                break\n",
    "            else:\n",
    "                self.bestGroup    = bestGroup\n",
    "                self.bestFitValue = bestFitValue\n",
    "            '''\n",
    "            self.bestGroup    = bestGroup\n",
    "            self.bestFitValue = bestFitValue\n",
    "            #print('最优解:', self.bestGroup)\n",
    "            #print('最优值:', self.bestFitValue)\n",
    "        print('总计迭代', t, '次')\n",
    "        print('最优解:', self.bestGroup)\n",
    "        print('最优值:', self.bestFitValue)\n",
    "        return self.bestGroup, self.bestFitValue"
   ]
  },
  {
   "cell_type": "code",
   "execution_count": 8,
   "metadata": {},
   "outputs": [
    {
     "name": "stdout",
     "output_type": "stream",
     "text": [
      "总计迭代 10000 次\n",
      "最优解: [ 0 27 11  5 20 25  8  4  2 28  1 19 14 17 13 21 16 10  3  9 12 23  7 26\n",
      " 22  6 24 18 15]\n",
      "最优值: 9988.752764459849\n"
     ]
    }
   ],
   "source": [
    "N = 1000  #种群规模\n",
    "matingRate    = 0.9   #交配概率\n",
    "variationRate = 0.01  #变异概率\n",
    "max_epoch     = 10000 #最大迭代次数\n",
    "ga = GA_TSP(data, N, matingRate, variationRate, max_epoch)\n",
    "bestGroup, bestFitValue = ga.process()"
   ]
  },
  {
   "cell_type": "code",
   "execution_count": 10,
   "metadata": {},
   "outputs": [
    {
     "data": {
      "image/png": "[encoded data removed]",
      "text/plain": [
       "<Figure size 432x288 with 1 Axes>"
      ]
     },
     "metadata": {
      "needs_background": "light"
     },
     "output_type": "display_data"
    }
   ],
   "source": [
    "bestFitValue = round(bestFitValue,2)\n",
    "plt.title(\"N: \"+str(N)+\"  Iteration: \"+str(max_epoch)+\"  Shortest distance: \"+ str(bestFitValue))\n",
    "plt.scatter(data[:,0],data[:,1],s=5)\n",
    "plt.plot(data[bestGroup,0],data[bestGroup,1])\n",
    "fileName = \"%s%s%s\" %(\"最短路径\",str(bestFitValue),\".png\")\n",
    "plt.savefig(fileName)\n",
    "plt.show()"
   ]
  },
  {
   "cell_type": "code",
   "execution_count": null,
   "metadata": {},
   "outputs": [],
   "source": []
  }
 ],
 "metadata": {
  "hide_input": false,
  "kernelspec": {
   "display_name": "Python 3",
   "language": "python",
   "name": "python3"
  },
  "language_info": {
   "codemirror_mode": {
    "name": "ipython",
    "version": 3
   },
   "file_extension": ".py",
   "mimetype": "text/x-python",
   "name": "python",
   "nbconvert_exporter": "python",
   "pygments_lexer": "ipython3",
   "version": "3.7.0"
  },
  "toc": {
   "base_numbering": 1,
   "nav_menu": {},
   "number_sections": true,
   "sideBar": true,
   "skip_h1_title": false,
   "title_cell": "Table of Contents",
   "title_sidebar": "Contents",
   "toc_cell": false,
   "toc_position": {},
   "toc_section_display": true,
   "toc_window_display": false
  },
  "varInspector": {
   "cols": {
    "lenName": 16,
    "lenType": 16,
    "lenVar": 40
   },
   "kernels_config": {
    "python": {
     "delete_cmd_postfix": "",
     "delete_cmd_prefix": "del ",
     "library": "var_list.py",
     "varRefreshCmd": "print(var_dic_list())"
    },
    "r": {
     "delete_cmd_postfix": ") ",
     "delete_cmd_prefix": "rm(",
     "library": "var_list.r",
     "varRefreshCmd": "cat(var_dic_list()) "
    }
   },
   "types_to_exclude": [
    "module",
    "function",
    "builtin_function_or_method",
    "instance",
    "_Feature"
   ],
   "window_display": false
  }
 },
 "nbformat": 4,
 "nbformat_minor": 2
}

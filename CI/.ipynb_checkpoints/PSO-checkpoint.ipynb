{
 "cells": [
  {
   "cell_type": "code",
   "execution_count": null,
   "metadata": {},
   "outputs": [],
   "source": [
    "import numpy as np\n",
    "import random\n",
    "import pandas as pd\n",
    "from scipy.spatial.distance import pdist\n",
    "from scipy.spatial.distance import squareform\n",
    "import matplotlib.pyplot as plt"
   ]
  },
  {
   "cell_type": "code",
   "execution_count": null,
   "metadata": {},
   "outputs": [],
   "source": [
    "class PSO():\n",
    "    def __init__(self, data, m, w, c1, c2, max_epoch, area = [10,10]):\n",
    "        self.c1 = c1 # x方向学习因子\n",
    "        self.c2 = c2 # y方向学习因子\n",
    "        self.w = w   # 惯性权值\n",
    "        self.m = m   # 粒子规模\n",
    "        self.max_epoch = max_epoch # 最大迭代次数\n",
    "        self.area = area  # 最大范围限制，最小默认为0\n",
    "        self.data = data  # 数据集\n",
    "        ptemp = list()\n",
    "        # 初始化粒子群位置\n",
    "        for i in area:\n",
    "            ptemp.append(np.random.uniform(high=i, size = self.m))\n",
    "        self.particles = np.array(ptemp).T\n",
    "        vtemp = list()\n",
    "        # 初始化粒子群速度\n",
    "        for i in area:\n",
    "            vtemp.append(np.random.uniform(low= -i*0.2, high=i*0.2, size = self.m))\n",
    "        self.speeds = np.array(vtemp).T\n",
    "        self.pbestPositions = np.zeros((self.m, self.particles.shape[1])) # 粒子群个体的最佳位置\n",
    "        self.pbestValues = np.ones(self.m) * np.inf # 粒子群个体的最佳适应值\n",
    "        self.gbestPosition = self.pbestPositions[0] # 粒子群的最佳位置\n",
    "        self.gbestValue = np.inf # 粒子群的最佳适应值\n",
    "        return\n",
    "    \n",
    "    def fitValue(self):\n",
    "        for i,p in enumerate(self.particles):\n",
    "            fitValue = 0\n",
    "            for node in self.data:\n",
    "                d = np.linalg.norm(p - node[:2])\n",
    "                v = node[2]\n",
    "                r = node[3]\n",
    "                fitValue += d * v * r  #未单位转化\n",
    "            if fitValue < self.pbestValues[i]:\n",
    "                self.pbestValues[i] = fitValue\n",
    "                self.pbestPositions[i] = p\n",
    "        minIndex = np.argmin(self.pbestValues)\n",
    "        self.gbestPosition = self.pbestPositions[minIndex]\n",
    "        self.gbestValue = self.pbestValues[minIndex]\n",
    "        return self.gbestValue\n",
    "    \n",
    "    def update(self):\n",
    "        for i, p in enumerate(self.particles):\n",
    "            for j, k in enumerate(p):\n",
    "                inertiaV =  self.w * self.speeds[i,j]  # 惯性速度\n",
    "                selfCorrectV = self.c1 * np.random.random() *  (self.pbestPositions[i, j] - k) # 自身修正\n",
    "                socialCorrectV = self.c2 * np.random.random() * (self.gbestPosition[j] - k)    # 社会修正\n",
    "                self.speeds[i, j] = inertiaV + selfCorrectV + socialCorrectV  # 更新速度\n",
    "                self.particles[i, j] += self.speeds[i, j]  # 更新位置\n",
    "                if self.particles[i, j] > self.area[j]:  # 越界合法性调整\n",
    "                    self.particles[i, j] = self.area[j]\n",
    "        return \n",
    "    \n",
    "    def evolute(self):\n",
    "        t = 0 \n",
    "        lastGbestValue = np.inf\n",
    "        flag = 0\n",
    "        while t < self.max_epoch: # 达到最大迭代次数，停止迭代\n",
    "            t += 1\n",
    "            gbestValue = self.fitValue()\n",
    "            #print(gbestValue)\n",
    "            #print(lastGbestValue)\n",
    "            if abs(gbestValue - lastGbestValue) < 1e-10:  # 稳定\n",
    "                flag += 1\n",
    "                if flag == 4:  # 若有4次最优值变化不大，停止迭代\n",
    "                    break\n",
    "            lastGbestValue = gbestValue\n",
    "            self.update()\n",
    "        print('共迭代:',str(t),'次')\n",
    "        print('选址:', self.gbestPosition)\n",
    "        #print(self.gbestValue)  #没有进行单位转化，仅可用于大小比较，无现实意义\n",
    "        return t, self.gbestValue, self.gbestPosition\n"
   ]
  },
  {
   "cell_type": "code",
   "execution_count": null,
   "metadata": {},
   "outputs": [],
   "source": [
    "rawData = pd.read_excel(\"../dataSet/物流选址数据集.xlsx\")\n",
    "data = np.array(rawData.iloc[:,1:])"
   ]
  },
  {
   "cell_type": "code",
   "execution_count": null,
   "metadata": {},
   "outputs": [],
   "source": [
    "c1 = c2 = 1.5\n",
    "max_epoch = 30\n",
    "w = 0.2\n",
    "m = 25\n",
    "pso = PSO(data,m,w,c1,c2,max_epoch)\n",
    "t,gbestValue,gbestPosition = pso.evolute()"
   ]
  },
  {
   "cell_type": "code",
   "execution_count": null,
   "metadata": {},
   "outputs": [],
   "source": [
    "plt.scatter(data[0:10,0], data[0:10,1], s=15, c='b',label='Markets')\n",
    "plt.scatter(data[10:11,0], data[10:11,1], s=15, marker='s',c='r',label='Factory')\n",
    "plt.scatter(gbestPosition[0], gbestPosition[1], s=50, marker='*', c='k',label='Warehouse')\n",
    "for node in data[10:11]:\n",
    "    plt.arrow(node[0],node[1],gbestPosition[0]-node[0],gbestPosition[1]-node[1],width=0.01,length_includes_head=True,\n",
    "              head_width=0.35,head_length=0.35,fc='k',ec='k',linestyle='--',linewidth=0.5)\n",
    "for node in data[0:10]:\n",
    "    plt.arrow(gbestPosition[0],gbestPosition[1],node[0]-gbestPosition[0],node[1]-gbestPosition[1],width=0.01,length_includes_head=True,\n",
    "              head_width=0.35,head_length=0.35,fc='k',ec='k',linestyle='--',linewidth=0.5)\n",
    "titleName = \"%s%s%s%s%s%s%s\" %(\"Iterate: \",str(t),\"  Site selection: \",\"x=\",str(round(gbestPosition[0],3)),\"  y=\",str(round(gbestPosition[1],3)))\n",
    "plt.title(titleName)\n",
    "plt.xlabel('x ')\n",
    "plt.ylabel('y ')\n",
    "plt.legend()\n",
    "fileName = \"%s%s%s\" %(\"每日运输成本\",str(round(gbestValue,2)),\".png\")\n",
    "plt.savefig(fileName)\n",
    "plt.show()"
   ]
  },
  {
   "cell_type": "code",
   "execution_count": null,
   "metadata": {},
   "outputs": [],
   "source": []
  },
  {
   "cell_type": "code",
   "execution_count": null,
   "metadata": {},
   "outputs": [],
   "source": [
    "rawData = pd.read_excel(\"../dataSet/废弃物回收中转站选址数据集.xlsx\")\n",
    "data = np.array(rawData.iloc[:,1:])"
   ]
  },
  {
   "cell_type": "code",
   "execution_count": null,
   "metadata": {},
   "outputs": [],
   "source": [
    "c1 = c2 = 1.8\n",
    "max_epoch = 50\n",
    "w = 0.2\n",
    "m = 40\n",
    "pso = PSO(data,m,w,c1,c2,max_epoch,area=[20,20])\n",
    "t, gbestValue, gbestPosition = pso.evolute()"
   ]
  },
  {
   "cell_type": "code",
   "execution_count": null,
   "metadata": {},
   "outputs": [],
   "source": [
    "plt.scatter(data[0:14,0], data[0:14,1], s=15, c='b',label='Manufacturers')\n",
    "plt.scatter(data[14:16,0], data[14:16,1], s=15, marker='s',c='r',label='Treatments')\n",
    "plt.scatter(gbestPosition[0], gbestPosition[1], s=50, marker='*', c='k',label='Recycle bin')\n",
    "for node in data[0:14]:\n",
    "    plt.arrow(node[0],node[1],gbestPosition[0]-node[0],gbestPosition[1]-node[1],width=0.01,length_includes_head=True,\n",
    "              head_width=0.35,head_length=1,fc='k',ec='k',linestyle='--',linewidth=0.5)\n",
    "for node in data[14:16]:\n",
    "    plt.arrow(gbestPosition[0],gbestPosition[1],node[0]-gbestPosition[0],node[1]-gbestPosition[1],width=0.01,length_includes_head=True,\n",
    "              head_width=0.5,head_length=0.75,fc='k',ec='k',linestyle='--',linewidth=0.5)\n",
    "titleName = \"%s%s%s%s%s%s%s\" %(\"Iterate: \",str(t),\"  Site selection: \",\"x=\",str(round(gbestPosition[0],3)),\"  y=\",str(round(gbestPosition[1],3)))\n",
    "plt.title(titleName)\n",
    "plt.xlabel('x /km')\n",
    "plt.ylabel('y /km')\n",
    "plt.legend()\n",
    "fileName = \"%s%s%s\" %(\"每日运输成本\",str(round(gbestValue,2)),\"(元).png\")\n",
    "plt.savefig(fileName)\n",
    "plt.show()"
   ]
  },
  {
   "cell_type": "code",
   "execution_count": null,
   "metadata": {},
   "outputs": [],
   "source": []
  }
 ],
 "metadata": {
  "hide_input": false,
  "kernelspec": {
   "display_name": "Python 3",
   "language": "python",
   "name": "python3"
  },
  "language_info": {
   "codemirror_mode": {
    "name": "ipython",
    "version": 3
   },
   "file_extension": ".py",
   "mimetype": "text/x-python",
   "name": "python",
   "nbconvert_exporter": "python",
   "pygments_lexer": "ipython3",
   "version": "3.7.0"
  },
  "toc": {
   "base_numbering": 1,
   "nav_menu": {},
   "number_sections": true,
   "sideBar": true,
   "skip_h1_title": false,
   "title_cell": "Table of Contents",
   "title_sidebar": "Contents",
   "toc_cell": false,
   "toc_position": {},
   "toc_section_display": true,
   "toc_window_display": false
  },
  "varInspector": {
   "cols": {
    "lenName": 16,
    "lenType": 16,
    "lenVar": 40
   },
   "kernels_config": {
    "python": {
     "delete_cmd_postfix": "",
     "delete_cmd_prefix": "del ",
     "library": "var_list.py",
     "varRefreshCmd": "print(var_dic_list())"
    },
    "r": {
     "delete_cmd_postfix": ") ",
     "delete_cmd_prefix": "rm(",
     "library": "var_list.r",
     "varRefreshCmd": "cat(var_dic_list()) "
    }
   },
   "types_to_exclude": [
    "module",
    "function",
    "builtin_function_or_method",
    "instance",
    "_Feature"
   ],
   "window_display": false
  }
 },
 "nbformat": 4,
 "nbformat_minor": 2
}

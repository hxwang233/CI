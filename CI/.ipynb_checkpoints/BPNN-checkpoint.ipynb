{
 "cells": [
  {
   "cell_type": "code",
   "execution_count": 4,
   "metadata": {},
   "outputs": [],
   "source": [
    "import numpy as np\n",
    "import pandas as pd"
   ]
  },
  {
   "cell_type": "code",
   "execution_count": 5,
   "metadata": {},
   "outputs": [],
   "source": [
    "W1 = np.array(([0.2, -0.3], [0.4, 0.1], [-0.5, 0.2]))\n",
    "W2 = np.array(([-0.3], [-0.2]))\n",
    "B1 = np.array(([-0.4, 0.2]))\n",
    "B2 = np.array(([0.1]))"
   ]
  },
  {
   "cell_type": "code",
   "execution_count": 6,
   "metadata": {},
   "outputs": [],
   "source": [
    "X = np.array(([1,0,1]))\n",
    "X = X[np.newaxis,:]\n",
    "Y = {(1,0,1):1}"
   ]
  },
  {
   "cell_type": "code",
   "execution_count": 1,
   "metadata": {},
   "outputs": [
    {
     "data": {
      "text/plain": [
       "'S = np.sum(X0.T * W1, axis=0,) + B1\\nS = S[:,np.newaxis]\\nO1 = sigmoid(S)\\nS = np.sum(O1 * W2) + B2\\nO = sigmoid(S)\\nE = O * (1 - O) * (1 - O)\\nq = np.sum(W2 * E, axis=1)\\nq = q[:,np.newaxis]\\nEj = O1 * (1 - O1) * q\\nEj\\n'"
      ]
     },
     "execution_count": 1,
     "metadata": {},
     "output_type": "execute_result"
    }
   ],
   "source": [
    "'''S = np.sum(X0.T * W1, axis=0,) + B1\n",
    "S = S[:,np.newaxis]\n",
    "O1 = sigmoid(S)\n",
    "S = np.sum(O1 * W2) + B2\n",
    "O = sigmoid(S)\n",
    "E = O * (1 - O) * (1 - O)\n",
    "q = np.sum(W2 * E, axis=1)\n",
    "q = q[:,np.newaxis]\n",
    "Ej = O1 * (1 - O1) * q\n",
    "Ej\n",
    "'''"
   ]
  },
  {
   "cell_type": "code",
   "execution_count": 40,
   "metadata": {
    "code_folding": []
   },
   "outputs": [],
   "source": [
    "class BPNN():\n",
    "    def __init__(self, X, Y, layer_structure, alpha, epochs):\n",
    "        self.X = X\n",
    "        self.Y = Y\n",
    "        self.W = layer_structure['W']\n",
    "        self.B = layer_structure['B']\n",
    "        self.res    = dict()\n",
    "        self.alpha  = alpha\n",
    "        self.epochs = epochs\n",
    "        self.layer_num = len(self.W)+1 \n",
    "        \n",
    "    def sigmoid(self, x):\n",
    "        return 1 / (1 + np.exp(-x))\n",
    "    \n",
    "    def bp_strat(self):\n",
    "        for x in self.X:\n",
    "            item = tuple(x)\n",
    "            real = self.Y[item]\n",
    "            x = x[np.newaxis,:]  \n",
    "            out = None\n",
    "            for t in range(self.epochs):   \n",
    "                out = list()\n",
    "                err = list()\n",
    "                oj  = x.T\n",
    "                out.append(oj)          \n",
    "                for layer in range(self.layer_num - 1):\n",
    "                    S  = np.sum(oj * self.W[layer], axis=0) + self.B[layer]\n",
    "                    S  = S[:,np.newaxis]\n",
    "                    oj = self.sigmoid(S)\n",
    "                    out.append(oj)\n",
    "                for layer in range(self.layer_num - 1, 0, -1):\n",
    "                    ej = None\n",
    "                    if layer == self.layer_num - 1: \n",
    "                        ej = out[layer] * (1 - out[layer]) * (real - out[layer])\n",
    "                    else:\n",
    "                        sigma = np.sum(self.W[layer] * err[abs(layer + 1 -(self.layer_num - 1))], axis=1)\n",
    "                        sigma = sigma[:,np.newaxis]\n",
    "                        ej = out[layer] * (1 - out[layer]) * sigma\n",
    "                    err.append(ej)\n",
    "                for i in range(self.layer_num - 1):          \n",
    "                    self.W[i] = self.W[i] + (self.alpha * out[i].T * err[(i + 1) % (self.layer_num - 1)]).T\n",
    "                    self.B[i] = (self.B[i] + self.alpha * err[(i + 1) % (self.layer_num - 1)].T)[0]\n",
    "                res = out[self.layer_num - 1][0][0]\n",
    "            self.res[item] = (res, real - res)\n",
    "    \n",
    "    def getW(self):\n",
    "        for i in range(len(self.W)):\n",
    "            print('W',i+1,':', self.W[i])\n",
    "    \n",
    "    def getB(self):\n",
    "        for i in range(len(self.B)):\n",
    "            print('B',i+1,':', self.B[i])\n",
    "    \n",
    "    def getRes(self):\n",
    "        for i,j in self.res.items():\n",
    "            print('样本:',i,'  预测结果: ',j[0],'  误差:',j[1])\n"
   ]
  },
  {
   "cell_type": "code",
   "execution_count": 44,
   "metadata": {},
   "outputs": [
    {
     "name": "stdout",
     "output_type": "stream",
     "text": [
      "W 1 : [[ 0.27428208  0.01345419]\n",
      " [ 0.4         0.1       ]\n",
      " [-0.42571792  0.51345419]]\n",
      "W 2 : [[0.57482401]\n",
      " [1.35692728]]\n",
      "B 1 : [-0.32571792  0.51345419]\n",
      "B 2 : [2.76895059]\n",
      "样本: (1, 0, 1)   预测结果:  0.981856934463786   误差: 0.01814306553621403\n"
     ]
    }
   ],
   "source": [
    "layer_structure = {'W':[W1, W2], 'B':[B1, B2]}\n",
    "alpha  = 0.9\n",
    "bpnn   = BPNN(X, Y, layer_structure, alpha, epochs = 1000)\n",
    "bpnn.bp_strat()\n",
    "bpnn.getW()\n",
    "bpnn.getB()\n",
    "bpnn.getRes()"
   ]
  },
  {
   "cell_type": "code",
   "execution_count": null,
   "metadata": {},
   "outputs": [],
   "source": []
  }
 ],
 "metadata": {
  "hide_input": false,
  "kernelspec": {
   "display_name": "Python 3",
   "language": "python",
   "name": "python3"
  },
  "language_info": {
   "codemirror_mode": {
    "name": "ipython",
    "version": 3
   },
   "file_extension": ".py",
   "mimetype": "text/x-python",
   "name": "python",
   "nbconvert_exporter": "python",
   "pygments_lexer": "ipython3",
   "version": "3.7.0"
  },
  "toc": {
   "base_numbering": 1,
   "nav_menu": {},
   "number_sections": true,
   "sideBar": true,
   "skip_h1_title": false,
   "title_cell": "Table of Contents",
   "title_sidebar": "Contents",
   "toc_cell": false,
   "toc_position": {},
   "toc_section_display": true,
   "toc_window_display": false
  },
  "varInspector": {
   "cols": {
    "lenName": 16,
    "lenType": 16,
    "lenVar": 40
   },
   "kernels_config": {
    "python": {
     "delete_cmd_postfix": "",
     "delete_cmd_prefix": "del ",
     "library": "var_list.py",
     "varRefreshCmd": "print(var_dic_list())"
    },
    "r": {
     "delete_cmd_postfix": ") ",
     "delete_cmd_prefix": "rm(",
     "library": "var_list.r",
     "varRefreshCmd": "cat(var_dic_list()) "
    }
   },
   "types_to_exclude": [
    "module",
    "function",
    "builtin_function_or_method",
    "instance",
    "_Feature"
   ],
   "window_display": false
  }
 },
 "nbformat": 4,
 "nbformat_minor": 2
}

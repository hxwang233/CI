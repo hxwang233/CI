{
 "cells": [
  {
   "cell_type": "code",
   "execution_count": 36,
   "metadata": {},
   "outputs": [],
   "source": [
    "import random\n",
    "import math\n",
    "import numpy as np\n",
    "import pandas as pd\n",
    "from scipy.spatial.distance import pdist\n",
    "from scipy.spatial.distance import squareform\n",
    "import matplotlib.pyplot as plt"
   ]
  },
  {
   "cell_type": "code",
   "execution_count": 37,
   "metadata": {},
   "outputs": [
    {
     "data": {
      "image/png": "[encoded data removed]",
      "text/plain": [
       "<Figure size 432x288 with 1 Axes>"
      ]
     },
     "metadata": {
      "needs_background": "light"
     },
     "output_type": "display_data"
    }
   ],
   "source": [
    "data = np.array(pd.read_excel(\"../dataSet/Oliver30.xlsx\",header=None))\n",
    "plt.title(\"Cities\")\n",
    "plt.scatter(data[:,0],data[:,1],s=5)\n",
    "plt.show()"
   ]
  },
  {
   "cell_type": "code",
   "execution_count": 38,
   "metadata": {},
   "outputs": [],
   "source": [
    "class PSO_4_TSP():\n",
    "    def __init__(self, data, m, max_epoch):\n",
    "        self.dist  = squareform(pdist(data, metric='euclidean'))  # 计算N个城市的距离矩阵\n",
    "        self.cityNums = data.shape[0]  #城市数目\n",
    "        self.m  = m   # 粒子数目\n",
    "        self.max_epoch = max_epoch #最大迭代次数\n",
    "        self.area = data.shape[0]  # 最大范围限制，最小默认为0\n",
    "        ptemp = list()\n",
    "        # 初始化粒子群位置\n",
    "        for i in range(self.m):\n",
    "            ptemp.append(random.sample(range(self.cityNums), self.cityNums))\n",
    "        self.particles = np.array(ptemp)#.T  # 粒子群位置\n",
    "        self.pbestPositions = np.zeros((self.m, self.particles.shape[1])) # 粒子群个体的最佳位置-局部最优解   粒子数*城市数\n",
    "        self.pbestValues = np.ones(self.m) * np.inf # 粒子群个体的最佳适应值-局部最优值   1*粒子数\n",
    "        self.gbestSolution = self.pbestPositions[0] # 粒子群的最佳位置   1*城市数\n",
    "        self.gbestValue = np.inf # 粒子群的最佳适应值   1\n",
    "        return\n",
    "    \n",
    "    def calcuValue(self, solution):  # 计算状态值\n",
    "        value = 0\n",
    "        for c in range(self.cityNums-1):\n",
    "            value += self.dist[int(solution[c]), int(solution[c+1])]\n",
    "        value += self.dist[int(solution[0]), int(solution[-1])]\n",
    "        return value\n",
    "    \n",
    "    def pbest(self):\n",
    "        for i,p in enumerate(self.particles):\n",
    "            fitValue = self.calcuValue(p)\n",
    "            if fitValue < self.pbestValues[i]:\n",
    "                self.pbestValues[i] = fitValue\n",
    "                self.pbestPositions[i] = p\n",
    "        return\n",
    "    \n",
    "    def update(self):   # 有序交叉法\n",
    "        for k, i in enumerate(self.particles):\n",
    "            x1 = i\n",
    "            for flag in range(2):\n",
    "                if flag == 0:\n",
    "                    x = self.gbestSolution\n",
    "                else:\n",
    "                    x = self.pbestPositions[k]\n",
    "                positions = random.sample(range(self.cityNums), 2)  # 随机两个交叉位\n",
    "                positions.sort()\n",
    "                com1  = list(x1[positions[0]:positions[1]+1])\n",
    "                com2  = list(x[positions[0]:positions[1]+1])\n",
    "                limit = list(range(positions[0])) + list(range(positions[1]+1, self.cityNums))\n",
    "                for p in limit:            \n",
    "                    temp = x1[p]\n",
    "                    if x[p] not in com1:\n",
    "                        x1[p] = x[p]\n",
    "                    else:\n",
    "                        index = com1.index(x[p])\n",
    "                        while com2[index] in com1:\n",
    "                            index = com1.index(com2[index])\n",
    "                        x1[p] = com2[index]  \n",
    "        return\n",
    "    \n",
    "    def electBest(self):\n",
    "        for k, p in enumerate(self.pbestPositions):\n",
    "            v = self.calcuValue(p)\n",
    "            if v < self.gbestValue:\n",
    "                self.gbestValue = v\n",
    "                self.gbestSolution = self.pbestPositions[k]    \n",
    "        return\n",
    "    \n",
    "    def evolute(self):\n",
    "        i = 0 \n",
    "        self.pbest()\n",
    "        while i < self.max_epoch: # 达到最大迭代次数，停止迭代\n",
    "            i += 1\n",
    "            # 全局搜索\n",
    "            self.update()\n",
    "            self.pbest()\n",
    "            # 选举出当前最优解/值\n",
    "            self.electBest()\n",
    "        print('最优解:', self.gbestSolution.astype(int))\n",
    "        print('最优值:', self.gbestValue)\n",
    "        return self.gbestValue, self.gbestSolution.astype(int).tolist()"
   ]
  },
  {
   "cell_type": "code",
   "execution_count": 39,
   "metadata": {},
   "outputs": [],
   "source": [
    "class SA_4_TSP():\n",
    "    def __init__(self, data, T0, alpha, L, TF, max_epoch):\n",
    "        self.cityNums  = data.shape[0]  # 城市数目\n",
    "        self.max_epoch = max_epoch # 最大迭代次数\n",
    "        self.dist = squareform(pdist(data, metric='euclidean'))  # 计算N个城市的距离矩阵\n",
    "        self.alpha = alpha  # 降温系数\n",
    "        self.T0 = T0  # 初始温度\n",
    "        self.L  = L   # MARKOV链长\n",
    "        self.TF = TF  # 终止温度\n",
    "        self.solution = random.sample(range(self.cityNums), self.cityNums) # 初始解-城市的全排列 list类型\n",
    "        self.value = self.calcuValue(self.solution)  # 计算当前状态值\n",
    "        self.T = T0   # 当前温度\n",
    "        return\n",
    "    \n",
    "    def calcuValue(self, solution):  # 计算状态值\n",
    "        value = 0\n",
    "        for c in range(self.cityNums-1):\n",
    "            value += self.dist[solution[c], solution[c+1]]\n",
    "        value += self.dist[solution[0], solution[-1]]\n",
    "        return value\n",
    "    \n",
    "    def pick_from_Nx(self, x):  # 从当前状态领域中挑选一个状态\n",
    "        # input x - 当前解 - 一个城市的全排列\n",
    "        # return 城市的全排列 list类型\n",
    "        exchange_index = sorted(random.sample(range(self.cityNums), 2))\n",
    "        solution = x.copy()\n",
    "        solution[exchange_index[0]] = self.solution[exchange_index[1]]\n",
    "        solution[exchange_index[1]] = self.solution[exchange_index[0]]\n",
    "        return solution\n",
    "       \n",
    "    def coolDown(self):  # 快速降温\n",
    "        T = self.alpha * self.T \n",
    "        return T\n",
    "    \n",
    "    def evolute(self):  # 模拟退火过程\n",
    "        t = 0 # 迭代次数\n",
    "        while t < self.max_epoch:\n",
    "            t += 1 # 当前迭代次数\n",
    "            for i in range(self.L):\n",
    "                newx = self.pick_from_Nx(self.solution)\n",
    "                v = self.calcuValue(newx)\n",
    "                delta = v - self.value   # 状态差值\n",
    "                if delta < 0: # 更新状态\n",
    "                    self.solution = newx  \n",
    "                    self.value = v\n",
    "                else:\n",
    "                    r = random.random()\n",
    "                    # 判断是否更新\n",
    "                    if r <= np.exp(-delta / self.T):\n",
    "                        self.solution = newx\n",
    "                        self.value = v\n",
    "            self.T = self.coolDown()  # 降温\n",
    "        print('最优解:', self.solution)\n",
    "        print('最优值:', self.value)\n",
    "        return self.value, self.solution"
   ]
  },
  {
   "cell_type": "code",
   "execution_count": 40,
   "metadata": {
    "code_folding": [
     51
    ]
   },
   "outputs": [],
   "source": [
    "class MA_PSO_SA_4_TSP:\n",
    "    def __init__(self, data, T0, alpha, L, TF, m, startL, max_epoch):\n",
    "        self.dist  = squareform(pdist(data, metric='euclidean'))  # 计算N个城市的距离矩阵\n",
    "        self.cityNums = data.shape[0]  #城市数目\n",
    "        self.alpha = alpha # 温度下降系数\n",
    "        self.T0 = T0  # 初始温度\n",
    "        self.L = L    # MARKOV链长\n",
    "        self.startL = startL\n",
    "        self.TF = TF  # 终止温度\n",
    "        self.m  = m   # 粒子数目\n",
    "        self.max_epoch = max_epoch #最大迭代次数\n",
    "        self.area = data.shape[0]  # 最大范围限制，最小默认为0\n",
    "        ptemp = list()\n",
    "        # 初始化粒子群位置\n",
    "        for i in range(self.m):\n",
    "            ptemp.append(random.sample(range(self.cityNums), self.cityNums))\n",
    "        self.particles = np.array(ptemp)#.T  # 粒子群位置\n",
    "        self.pbestPositions = np.zeros((self.m, self.particles.shape[1])) # 粒子群个体的最佳位置-局部最优解   粒子数*城市数\n",
    "        self.pbestValues = np.ones(self.m) * np.inf # 粒子群个体的最佳适应值-局部最优值   1*粒子数\n",
    "        self.gbestSolution = self.pbestPositions[0] # 粒子群的最佳位置   1*城市数\n",
    "        self.gbestValue = np.inf # 粒子群的最佳适应值   1\n",
    "        return\n",
    "    \n",
    "    def calcuValue(self, solution):  # 计算状态值\n",
    "        value = 0\n",
    "        for c in range(self.cityNums-1):\n",
    "            value += self.dist[int(solution[c]), int(solution[c+1])]\n",
    "        value += self.dist[int(solution[0]), int(solution[-1])]\n",
    "        return value\n",
    "    \n",
    "    def pick_from_Nx(self, x):  # 从当前状态领域中挑选一个状态\n",
    "        # input x - 当前解 - 一个城市的全排列\n",
    "        # return 城市的全排列 list类型\n",
    "        positions = random.sample(range(self.cityNums), 2) # 随机两个变异点\n",
    "        positions.sort()\n",
    "        solution = x.copy()\n",
    "        diff = (positions[1] - positions[0])/2\n",
    "        for i in range(positions[0], math.ceil(diff+positions[0])):  # 倒置操作\n",
    "            temp = solution[i]\n",
    "            solution[i] = solution[int(i+(positions[0]+diff-i)*2)]\n",
    "            solution[int(i+(positions[0]+diff-i)*2)] = temp\n",
    "        return solution\n",
    "    \n",
    "    def coolDown(self):  # 快速降温\n",
    "        T = self.alpha * self.T \n",
    "        return T\n",
    "    \n",
    "    '''def update1(self):\n",
    "        for i, p in enumerate(self.particles):\n",
    "            for j, k in enumerate(p):\n",
    "                inertiaV =  self.w * self.speeds[i,j]  # 惯性速度\n",
    "                selfCorrectV = self.c1 * np.random.random() *  (self.pbestPositions[i, j] - k) # 自身修正\n",
    "                socialCorrectV = self.c2 * np.random.random() * (self.gbestSolution[j] - k)    # 社会修正\n",
    "                self.speeds[i, j] = inertiaV + selfCorrectV + socialCorrectV  # 更新速度\n",
    "                self.particles[i, j] = int(self.particles[i, j] + self.speeds[i, j])  # 更新位置\n",
    "                if self.particles[i, j] > self.area:  # 越界合法性调整\n",
    "                    self.particles[i, j] = self.area\n",
    "                if self.particles[i, j] < 0:  # 越界合法性调整\n",
    "                    self.particles[i, j] = 0\n",
    "        return '''\n",
    "    \n",
    "    def update(self):   # 有序交叉法\n",
    "        for k, i in enumerate(self.particles):\n",
    "            x1 = i\n",
    "            for flag in range(2):\n",
    "                if flag == 0:\n",
    "                    x = self.gbestSolution\n",
    "                else:\n",
    "                    x = self.pbestPositions[k]\n",
    "                positions = random.sample(range(self.cityNums), 2)  # 随机两个交叉位\n",
    "                positions.sort()\n",
    "                com1  = list(x1[positions[0]:positions[1]+1])\n",
    "                com2  = list(x[positions[0]:positions[1]+1])\n",
    "                limit = list(range(positions[0])) + list(range(positions[1]+1, self.cityNums))\n",
    "                for p in limit:            \n",
    "                    temp = x1[p]\n",
    "                    if x[p] not in com1:\n",
    "                        x1[p] = x[p]\n",
    "                    else:\n",
    "                        index = com1.index(x[p])\n",
    "                        while com2[index] in com1:\n",
    "                            index = com1.index(com2[index])\n",
    "                        x1[p] = com2[index]  \n",
    "        return\n",
    "    \n",
    "    def startup(self):  #算法初启动时，对每个粒子进行邻域局部退火\n",
    "        for k, p in enumerate(self.particles):  # 对每个粒子\n",
    "            self.T = self.T0  #温度初始化\n",
    "            while(True):\n",
    "                for i in range(self.startL):   # 扰动self.startL次\n",
    "                    newx = self.pick_from_Nx(p)\n",
    "                    v = self.calcuValue(newx)\n",
    "                    delta = v - self.pbestValues[k]   # 状态差值\n",
    "                    if delta < 0: # 更新状态\n",
    "                        self.pbestPositions[k] = newx\n",
    "                        self.pbestValues[k] = v \n",
    "                    else:\n",
    "                        r = random.random()\n",
    "                        # 判断是否更新\n",
    "                        if r <= np.exp(-delta / self.T):  \n",
    "                            self.pbestPositions[k] = newx\n",
    "                            self.pbestValues[k] = v \n",
    "                self.T = self.coolDown()  # 降温\n",
    "                if self.T <= self.TF:  # 达到终止温度\n",
    "                    break # 退出\n",
    "        return\n",
    "    \n",
    "    def anneal(self):  # 对当轮粒子群局部最优解进行局部退火\n",
    "        self.T = self.T0  #温度初始化\n",
    "        while(True):\n",
    "            for i in range(self.L):  # 扰动self.L次\n",
    "                newx = self.pick_from_Nx(self.gbestSolution)\n",
    "                v = self.calcuValue(newx)\n",
    "                delta = v - self.gbestValue   # 状态差值\n",
    "                if delta < 0: # 更新状态\n",
    "                    self.gbestSolution = newx\n",
    "                    self.gbestValue = v \n",
    "                else:\n",
    "                    r = random.random()\n",
    "                    # 判断是否更新\n",
    "                    if r <= np.exp(-delta / self.T):  \n",
    "                        self.gbestSolution = newx\n",
    "                        self.gbestValue = v \n",
    "            self.T = self.coolDown()  # 降温\n",
    "            if self.T <= self.TF:  # 达到终止温度\n",
    "                break # 退出\n",
    "        return\n",
    "    \n",
    "    def electBest(self):\n",
    "        for k, p in enumerate(self.pbestPositions):\n",
    "            v = self.calcuValue(p)\n",
    "            if v < self.gbestValue:\n",
    "                self.gbestValue = v\n",
    "                self.gbestSolution = self.pbestPositions[k]    \n",
    "        return\n",
    "    \n",
    "    def evolute(self):\n",
    "        i = 0 \n",
    "        self.startup()  #冷启动\n",
    "        while i < self.max_epoch: # 达到最大迭代次数，停止迭代\n",
    "            i += 1\n",
    "            # 全局搜索\n",
    "            self.update()\n",
    "            # 局部搜索\n",
    "            self.anneal()\n",
    "            # 选举出当前最优解/值\n",
    "            self.electBest()\n",
    "        print('最优解:', self.gbestSolution.astype(int))\n",
    "        print('最优值:', self.gbestValue)\n",
    "        return self.gbestValue, self.gbestSolution.astype(int).tolist()"
   ]
  },
  {
   "cell_type": "code",
   "execution_count": 41,
   "metadata": {},
   "outputs": [],
   "source": [
    "alpha = 0.8     # 降温系数\n",
    "T0 = 2000       # 初温\n",
    "L  = 1000       # MARKOV链长\n",
    "TF = 0.01       # 终止温度\n",
    "m  = 50         # 粒子数目\n",
    "startL = 50     # 启动参数\n",
    "max_epoch = 100 # 迭代次数"
   ]
  },
  {
   "cell_type": "code",
   "execution_count": 42,
   "metadata": {},
   "outputs": [
    {
     "name": "stdout",
     "output_type": "stream",
     "text": [
      "最优解: [19 17  2  8 16 27 26 28  7 14 23 15 22 29  4 11 21 10 18  9 20 24 13  6\n",
      " 25  3 12  5  1  0]\n",
      "最优值: 702.1344985283952\n"
     ]
    }
   ],
   "source": [
    "tpso = PSO_4_TSP(data, m, max_epoch)\n",
    "v1, s1 = tpso.evolute()"
   ]
  },
  {
   "cell_type": "code",
   "execution_count": 43,
   "metadata": {},
   "outputs": [
    {
     "name": "stdout",
     "output_type": "stream",
     "text": [
      "最优解: [20, 19, 18, 10, 17, 2, 8, 11, 12, 3, 1, 0, 5, 4, 29, 22, 21, 16, 15, 27, 26, 28, 25, 24, 23, 14, 13, 7, 6, 9]\n",
      "最优值: 443.70948186029693\n"
     ]
    }
   ],
   "source": [
    "sa = SA_4_TSP(data, T0, alpha, L, TF, max_epoch)\n",
    "v2, s2 = sa.evolute()"
   ]
  },
  {
   "cell_type": "code",
   "execution_count": null,
   "metadata": {},
   "outputs": [],
   "source": [
    "mps = MA_PSO_SA_4_TSP(data, T0, alpha, L, TF, m, startL, max_epoch)\n",
    "v3, s3 = mps.evolute()"
   ]
  },
  {
   "cell_type": "code",
   "execution_count": 45,
   "metadata": {},
   "outputs": [
    {
     "data": {
      "image/png": "[encoded data removed]",
      "text/plain": [
       "<Figure size 432x288 with 1 Axes>"
      ]
     },
     "metadata": {
      "needs_background": "light"
     },
     "output_type": "display_data"
    },
    {
     "data": {
      "image/png": "[encoded data removed]",
      "text/plain": [
       "<Figure size 432x288 with 1 Axes>"
      ]
     },
     "metadata": {
      "needs_background": "light"
     },
     "output_type": "display_data"
    },
    {
     "data": {
      "image/png": "[encoded data removed]",
      "text/plain": [
       "<Figure size 432x288 with 1 Axes>"
      ]
     },
     "metadata": {
      "needs_background": "light"
     },
     "output_type": "display_data"
    }
   ],
   "source": [
    "name = ['PSO','SA','MA']\n",
    "s = [s1, s2, s3]\n",
    "v = [v1, v2, v3]\n",
    "for i in range(3):\n",
    "    value = round(v[i], 4)\n",
    "    solution = list(s[i])\n",
    "    solution.append(solution[0])\n",
    "    plt.title(\"Iteration: \"+str(max_epoch)+\"    distance: \"+ str(value))\n",
    "    plt.scatter(data[:,0], data[:,1],s=20)\n",
    "    plt.plot(data[solution,0], data[solution,1], label = name[i])\n",
    "    plt.legend()\n",
    "    fileName = \"%s%s%s%s\" %(str(i),\"最短路径\",str(value),\".png\")\n",
    "    plt.savefig(fileName)\n",
    "    plt.show()"
   ]
  },
  {
   "cell_type": "code",
   "execution_count": 46,
   "metadata": {},
   "outputs": [
    {
     "data": {
      "text/plain": [
       "[1, 2, 3, 4]"
      ]
     },
     "execution_count": 46,
     "metadata": {},
     "output_type": "execute_result"
    }
   ],
   "source": [
    "a = np.array([1,2,3,4])\n",
    "a.tolist()"
   ]
  },
  {
   "cell_type": "code",
   "execution_count": null,
   "metadata": {},
   "outputs": [],
   "source": []
  }
 ],
 "metadata": {
  "hide_input": false,
  "kernelspec": {
   "display_name": "Python 3",
   "language": "python",
   "name": "python3"
  },
  "language_info": {
   "codemirror_mode": {
    "name": "ipython",
    "version": 3
   },
   "file_extension": ".py",
   "mimetype": "text/x-python",
   "name": "python",
   "nbconvert_exporter": "python",
   "pygments_lexer": "ipython3",
   "version": "3.7.0"
  },
  "toc": {
   "base_numbering": 1,
   "nav_menu": {},
   "number_sections": true,
   "sideBar": true,
   "skip_h1_title": false,
   "title_cell": "Table of Contents",
   "title_sidebar": "Contents",
   "toc_cell": false,
   "toc_position": {},
   "toc_section_display": true,
   "toc_window_display": false
  },
  "varInspector": {
   "cols": {
    "lenName": 16,
    "lenType": 16,
    "lenVar": 40
   },
   "kernels_config": {
    "python": {
     "delete_cmd_postfix": "",
     "delete_cmd_prefix": "del ",
     "library": "var_list.py",
     "varRefreshCmd": "print(var_dic_list())"
    },
    "r": {
     "delete_cmd_postfix": ") ",
     "delete_cmd_prefix": "rm(",
     "library": "var_list.r",
     "varRefreshCmd": "cat(var_dic_list()) "
    }
   },
   "types_to_exclude": [
    "module",
    "function",
    "builtin_function_or_method",
    "instance",
    "_Feature"
   ],
   "window_display": false
  }
 },
 "nbformat": 4,
 "nbformat_minor": 2
}

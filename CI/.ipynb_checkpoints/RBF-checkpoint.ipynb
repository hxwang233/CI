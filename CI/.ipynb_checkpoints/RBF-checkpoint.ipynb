{
 "cells": [
  {
   "cell_type": "code",
   "execution_count": 2,
   "metadata": {},
   "outputs": [],
   "source": [
    "import numpy as np\n",
    "import pandas as pd\n",
    "from sklearn import preprocessing\n",
    "from matplotlib import pyplot as plt\n",
    "from sklearn.cluster import KMeans"
   ]
  },
  {
   "cell_type": "code",
   "execution_count": 3,
   "metadata": {},
   "outputs": [
    {
     "name": "stdout",
     "output_type": "stream",
     "text": [
      "[3.520e+03 2.605e+02 1.933e+02 3.080e-01]\n"
     ]
    }
   ],
   "source": [
    "data = pd.read_excel(\"../dataSet/agro.xlsx\", header = None)\n",
    "data = np.array(data)\n",
    "trainSet = data[0:14]\n",
    "testSet  = data[14:18]"
   ]
  },
  {
   "cell_type": "code",
   "execution_count": 35,
   "metadata": {},
   "outputs": [],
   "source": [
    "x_trainSet_Norm = preprocessing.MinMaxScaler().fit_transform(data)[0:18, 0:3] #归一化\n",
    "#x_trainSet_Norm = data[0:14, 0:4]\n",
    "y_trainSet = data[0:18, 4]\n",
    "x_testSet_Norm  = preprocessing.MinMaxScaler().fit_transform(data)[14:18, 0:3]\n",
    "#x_testSet_Norm = data[14:18, 0:4]\n",
    "y_testSet = data[14:18, 4]"
   ]
  },
  {
   "cell_type": "code",
   "execution_count": 21,
   "metadata": {},
   "outputs": [
    {
     "data": {
      "text/plain": [
       "array([[6.058e+03, 6.237e+02, 3.534e+02, 7.560e-01, 6.221e+02],\n",
       "       [5.127e+03, 5.603e+02, 3.257e+02, 6.610e-01, 5.734e+02],\n",
       "       [5.380e+03, 5.285e+02, 3.105e+02, 6.500e-01, 5.467e+02],\n",
       "       [5.000e+03, 5.144e+02, 2.947e+02, 7.030e-01, 5.188e+02],\n",
       "       [4.983e+03, 5.337e+02, 3.125e+02, 7.050e-01, 5.662e+02],\n",
       "       [4.917e+03, 5.590e+02, 3.175e+02, 6.800e-01, 2.289e+02],\n",
       "       [5.156e+03, 4.921e+02, 3.036e+02, 5.920e-01, 5.345e+02],\n",
       "       [7.500e+03, 5.000e+02, 4.248e+02, 7.000e-01, 5.463e+02],\n",
       "       [5.625e+03, 6.360e+02, 3.726e+02, 7.000e-01, 6.560e+02],\n",
       "       [6.980e+03, 5.393e+02, 3.717e+02, 8.800e-01, 6.541e+02],\n",
       "       [5.005e+03, 5.781e+02, 3.682e+02, 6.800e-01, 6.483e+02],\n",
       "       [3.980e+03, 6.935e+02, 3.929e+02, 6.750e-01, 6.917e+02],\n",
       "       [4.870e+03, 6.337e+02, 3.591e+02, 7.560e-01, 6.450e+02],\n",
       "       [6.600e+03, 5.390e+02, 3.736e+02, 9.000e-01, 6.757e+02],\n",
       "       [6.134e+03, 4.705e+02, 4.324e+02, 7.150e-01, 7.612e+02],\n",
       "       [5.921e+03, 4.852e+02, 4.880e+02, 7.000e-01, 8.156e+02],\n",
       "       [5.345e+03, 4.903e+02, 3.597e+02, 6.800e-01, 6.333e+02],\n",
       "       [4.058e+03, 4.330e+02, 3.372e+02, 7.000e-01, 5.937e+02]])"
      ]
     },
     "execution_count": 21,
     "metadata": {},
     "output_type": "execute_result"
    }
   ],
   "source": [
    "data"
   ]
  },
  {
   "cell_type": "code",
   "execution_count": 32,
   "metadata": {},
   "outputs": [],
   "source": [
    "class RBF():\n",
    "    def __init__(self, centers_num, output_dim = 1):\n",
    "        self.centers_num = centers_num  # 隐层数\n",
    "        self.output_dim  = output_dim   # 输出层层数\n",
    "        #self.W = np.zeros((self.centers_num, self.output_dim))\n",
    "\n",
    "    def getSigma(self):\n",
    "        # 计算方差\n",
    "        dmax = 0 #所选中心点间最大距离\n",
    "        for i in range(self.centers_num - 1):\n",
    "            for j in range(i, self.centers_num):\n",
    "                d = np.sqrt(np.sum(np.square(self.centers[i] - self.centers[j]))) # 两向量间欧氏距离\n",
    "                if d > dmax:\n",
    "                    dmax = d\n",
    "        sigma = dmax / np.sqrt(2 * self.centers_num) # sigma = 所选中心点间最大距离dmax / √(2 * 隐藏层层数centers_num)\n",
    "        return sigma\n",
    "    \n",
    "    def kernelFunc(self, x, c):\n",
    "        # 高斯核函数\n",
    "        return np.exp(-np.sum(np.square(x - c)) / (2 * np.square(self.sigma)))\n",
    "    \n",
    "    def getG(self, data):\n",
    "        # 映射值（前半段）\n",
    "        G = np.zeros((data.shape[0], self.centers_num))\n",
    "        for i, x in enumerate(data):\n",
    "            for j, c in enumerate(self.centers):\n",
    "                G[i,j] = self.kernelFunc(x, c) #通过高斯核函数隐射\n",
    "        return G\n",
    "    \n",
    "    def train(self, x_train, y_train):\n",
    "        # 训练\n",
    "        self.input_dim = x_train.shape[1]  # 输入层数\n",
    "        model = KMeans(n_clusters=self.centers_num, max_iter=500) # kmeans法选取中心\n",
    "        model.fit(x_train)\n",
    "        self.centers = np.array(model.cluster_centers_)  # 获取的中心\n",
    "        self.sigma   = self.getSigma() # 计算方差\n",
    "        G = self.getG(x_train) #计算映射值\n",
    "        self.W = np.dot(np.linalg.pinv(G), y_train) #计算权值矩阵\n",
    "        return\n",
    "    \n",
    "    def test(self, x_test):\n",
    "        # 测试\n",
    "        G = self.getG(x_test)\n",
    "        Y = np.dot(G, self.W) # 线性加权和（网络后半段）\n",
    "        return Y\n",
    " \n"
   ]
  },
  {
   "cell_type": "code",
   "execution_count": 36,
   "metadata": {},
   "outputs": [
    {
     "name": "stdout",
     "output_type": "stream",
     "text": [
      "4 [878.03821527 712.88363089 563.76753745 151.03568509]\n",
      "-0.20696101610857412\n",
      "5 [871.99736731 710.38995331 655.38029052 225.35359008]\n",
      "-0.14225015654384598\n",
      "6 [873.34323084 700.06089083 653.31257472 610.5386336 ]\n",
      "0.016406358922136384\n",
      "7 [865.051375   703.14023364 695.72993236 600.64170609]\n",
      "0.02720406026829435\n",
      "8 [861.51090966 725.97321042 608.5024259  621.9433433 ]\n",
      "0.007576240602680372\n",
      "9 [870.8648571  715.8962971  635.04525446 610.06766002]\n",
      "0.013036817558238293\n",
      "10 [868.99779573 716.5410995  617.66755103 590.64377433]\n",
      "-0.00241788030807211\n",
      "11 [754.41306004 818.21156659 647.15284315 587.77682044]\n",
      "0.0015458131932363922\n",
      "12 [756.214542   817.14146581 634.24854076 588.87604964]\n",
      "-0.0028217379072182636\n",
      "13 [757.63431414 816.5903297  627.14712323 595.00889016]\n",
      "-0.00274525220210404\n",
      "14 [758.44956183 816.31207643 626.72936621 594.92129482]\n",
      "-0.0027645904770573384\n"
     ]
    },
    {
     "data": {
      "image/png": "[encoded data removed]",
      "text/plain": [
       "<Figure size 432x288 with 1 Axes>"
      ]
     },
     "metadata": {
      "needs_background": "light"
     },
     "output_type": "display_data"
    }
   ],
   "source": [
    "x = list()  #隐层数集合\n",
    "re = list() #平均相对误差集合 \n",
    "for i in range(4,15):\n",
    "    centers_num = i  #隐层数\n",
    "    #print(\"第\",i,\"次\")\n",
    "    rbf = RBF(centers_num)\n",
    "    rbf.train(x_trainSet_Norm, y_trainSet) #训练\n",
    "    y_res = rbf.test(x_testSet_Norm) #测试\n",
    "    print(i, y_res)\n",
    "    print(np.mean((y_res - y_testSet) / y_testSet))  #平均相对误差\n",
    "    x.append(i)\n",
    "    re.append(np.mean((y_res - y_testSet) / y_testSet))\n",
    "plt.xlabel('Number of hidden layers')\n",
    "plt.ylabel('Relative Error')\n",
    "plt.plot(x, re, 'r-', linewidth=1)\n",
    "#plt.savefig(\"隐层数 vs. 相对误差（归一化）.png\")\n",
    "plt.show()"
   ]
  }
 ],
 "metadata": {
  "hide_input": false,
  "kernelspec": {
   "display_name": "Python 3",
   "language": "python",
   "name": "python3"
  },
  "toc": {
   "base_numbering": 1,
   "nav_menu": {},
   "number_sections": true,
   "sideBar": true,
   "skip_h1_title": false,
   "title_cell": "Table of Contents",
   "title_sidebar": "Contents",
   "toc_cell": false,
   "toc_position": {},
   "toc_section_display": true,
   "toc_window_display": false
  },
  "varInspector": {
   "cols": {
    "lenName": 16,
    "lenType": 16,
    "lenVar": 40
   },
   "kernels_config": {
    "python": {
     "delete_cmd_postfix": "",
     "delete_cmd_prefix": "del ",
     "library": "var_list.py",
     "varRefreshCmd": "print(var_dic_list())"
    },
    "r": {
     "delete_cmd_postfix": ") ",
     "delete_cmd_prefix": "rm(",
     "library": "var_list.r",
     "varRefreshCmd": "cat(var_dic_list()) "
    }
   },
   "types_to_exclude": [
    "module",
    "function",
    "builtin_function_or_method",
    "instance",
    "_Feature"
   ],
   "window_display": false
  }
 },
 "nbformat": 4,
 "nbformat_minor": 2
}

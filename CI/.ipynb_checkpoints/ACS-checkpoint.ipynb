{
 "cells": [
  {
   "cell_type": "code",
   "execution_count": 9,
   "metadata": {},
   "outputs": [],
   "source": [
    "import numpy as np\n",
    "import pandas as pd\n",
    "import random\n",
    "import math\n",
    "from scipy.spatial.distance import pdist\n",
    "from scipy.spatial.distance import squareform\n",
    "import matplotlib.pyplot as plt"
   ]
  },
  {
   "cell_type": "code",
   "execution_count": 10,
   "metadata": {},
   "outputs": [],
   "source": [
    "data = np.array(pd.read_excel(\"../dataSet/cities.xlsx\",header=None))\n",
    "dist = squareform(pdist(data, metric='euclidean'))"
   ]
  },
  {
   "cell_type": "code",
   "execution_count": 27,
   "metadata": {
    "code_folding": []
   },
   "outputs": [],
   "source": [
    "class ACS():\n",
    "    def __init__(self, data, m, rho, q0, max_epoch = 1000, alpha = 1, beta = 2):\n",
    "        self.cityNum = data.shape[0]\n",
    "        self.dist = self.getDist(data) # 计算N个城市的距离矩阵\n",
    "        self.m   = m    # 蚂蚁数目\n",
    "        self.q0  = q0   # 伪随机因子\n",
    "        self.rho = rho  # 信息素挥发因子 \n",
    "        self.alpha = alpha  #信息素权重 \n",
    "        self.beta  = beta   #启发式信息权重     \n",
    "        self.max_epoch = max_epoch #最大迭代次数\n",
    "        self.setinitTau()\n",
    "        \n",
    "    def getDist(self, data):  # 计算N个城市的距离矩阵\n",
    "        dist = squareform(pdist(data, metric='euclidean')) \n",
    "        i = list(range(self.cityNum))\n",
    "        dist[i,i] = float('inf')\n",
    "        return dist\n",
    "    \n",
    "    def setinitTau(self):\n",
    "        s = random.sample(range(self.cityNum), 1) # 开始位置\n",
    "        j = None # 下一个城市\n",
    "        sumdist = 0 # 总路程 \n",
    "        # 贪心\n",
    "        for i in range(self.cityNum):\n",
    "            temp = float('inf')\n",
    "            for k in range(self.cityNum):\n",
    "                if k not in s and dist[k, s[i]] < temp:\n",
    "                    temp = dist[k, s[i]]\n",
    "                    j = k\n",
    "            if j not in s:\n",
    "                s.append(j)\n",
    "                sumdist += temp\n",
    "        sumdist += dist[s[0], j] #回到原处\n",
    "        self.tau = np.ones((self.cityNum, self.cityNum)) * (self.m / sumdist)\n",
    "        i = list(range(self.cityNum))\n",
    "        self.tau[i,i] = 0\n",
    "        return\n",
    "    \n",
    "    def select(self, pk, jk): #伪随机比例规则 （开发+偏向探索）\n",
    "        nextCityIndex = None\n",
    "        q = random.uniform(0, 1)\n",
    "        if q <= self.q0:\n",
    "            nextCityIndex = np.argmax(pk)\n",
    "        else:\n",
    "            if np.sum(pk) < 1e-15:         \n",
    "                p = [1 for _ in range(len(jk))]\n",
    "            else:\n",
    "                p = pk / np.sum(pk)\n",
    "            m = 0\n",
    "            r = random.uniform(0, 1)\n",
    "            for i, j in enumerate(p):\n",
    "                m += j\n",
    "                if r <= m:\n",
    "                    nextCityIndex = i\n",
    "                    break\n",
    "        return jk[nextCityIndex]\n",
    "\n",
    "    def antsMove(self):\n",
    "        paths = dict()\n",
    "        for k in range(self.m): # 所有蚂蚁\n",
    "            rk = random.sample(range(self.cityNum), 1) # 设置路径列表 并初始随机开始位置 \n",
    "            sumdist = 0  # 路径长度和\n",
    "            for c in range(self.cityNum-1):\n",
    "                jk = list(set(range(self.cityNum)).difference(set(rk)))  # 差集\n",
    "                pk = [0 for _ in range(len(jk))]  # 概率列表\n",
    "                for i, j in enumerate(jk):\n",
    "                    pk[i] = np.power(self.tau[rk[-1], j], self.alpha) * np.power((1 / self.dist[rk[-1], j]), self.beta)  # 伪随机比例\n",
    "                nextCity = self.select(pk, jk)  # 轮盘赌选择下一个城市\n",
    "                sumdist += self.dist[rk[-1], nextCity]  \n",
    "                rk.append(nextCity)\n",
    "            sumdist += self.dist[rk[0], rk[-1]]  # 回到原来城市\n",
    "            rk.append(rk[0]) # 添加原来城市\n",
    "            paths[(k, sumdist)] = rk  # <蚂蚁编号，路径长度>:<路径>\n",
    "        return paths\n",
    "\n",
    "    def updateTau(self, paths):\n",
    "        for i in range(self.cityNum): \n",
    "            for j in range(self.cityNum):\n",
    "                if i != j:  # 非对角线边\n",
    "                    sigma = 0  #信息素增量\n",
    "                    for ksumdist, path in paths.items(): \n",
    "                        sumdist = ksumdist[1]\n",
    "                        index = path.index(i)\n",
    "                        if index + 1 < self.cityNum and path[index + 1] == j: # 判断路径是否包含边\n",
    "                            sigma += 1/sumdist\n",
    "                    self.tau[i, j] = (1 - self.rho) * self.tau[i, j] + sigma  # 更新信息素量tau\n",
    "        return\n",
    "    \n",
    "    def getMinRoute(self, paths):  # 获取最优解和最优值 + 格式化输出\n",
    "        mindist = float('inf')\n",
    "        key = None \n",
    "        for ksumdist in paths.keys():\n",
    "            if ksumdist[1] < mindist:\n",
    "                mindist = ksumdist[1]\n",
    "                key = ksumdist\n",
    "        return (key[1], paths[key])\n",
    "    \n",
    "    def evolute(self):  #演化过程\n",
    "        paths = None\n",
    "        for t in range(1, self.max_epoch+1):\n",
    "            paths = self.antsMove()  # 蚂蚁的一轮移动\n",
    "            flag = 0\n",
    "            sumdist = 0\n",
    "            for ksumdist in paths.keys():\n",
    "                if flag == 0:\n",
    "                    sumdist = ksumdist[1]\n",
    "                    flag += 1\n",
    "                else:\n",
    "                    if abs(sumdist - ksumdist[1]) < 1e-5:\n",
    "                        flag += 1\n",
    "            if flag/self.m >= 0.9:\n",
    "                break\n",
    "            self.updateTau(paths)  #更新信息素量tau值\n",
    "        print('总计迭代:',str(t),'次')\n",
    "        res = self.getMinRoute(paths)\n",
    "        print('最优值:',res[0])\n",
    "        print('最优解:',res[1])\n",
    "        return res\n",
    "            "
   ]
  },
  {
   "cell_type": "code",
   "execution_count": 45,
   "metadata": {},
   "outputs": [
    {
     "name": "stdout",
     "output_type": "stream",
     "text": [
      "总计迭代: 3930 次\n",
      "最优值: 10054.617654039232\n",
      "最优解: [8, 25, 28, 2, 11, 5, 27, 0, 23, 26, 7, 22, 6, 24, 18, 12, 15, 10, 21, 13, 17, 16, 14, 3, 9, 19, 1, 20, 4, 8]\n"
     ]
    }
   ],
   "source": [
    "m = 10    # 蚂蚁数目\n",
    "rho = 0.5 # 信息素挥发因子 \n",
    "q0  = 0.1 # 伪随机因子\n",
    "max_epoch = 10000\n",
    "acs = ACS(data, m, rho, q0, max_epoch)\n",
    "paths = acs.evolute()"
   ]
  },
  {
   "cell_type": "code",
   "execution_count": null,
   "metadata": {},
   "outputs": [],
   "source": []
  },
  {
   "cell_type": "code",
   "execution_count": null,
   "metadata": {},
   "outputs": [],
   "source": []
  }
 ],
 "metadata": {
  "hide_input": false,
  "kernelspec": {
   "display_name": "Python 3",
   "language": "python",
   "name": "python3"
  },
  "language_info": {
   "codemirror_mode": {
    "name": "ipython",
    "version": 3
   },
   "file_extension": ".py",
   "mimetype": "text/x-python",
   "name": "python",
   "nbconvert_exporter": "python",
   "pygments_lexer": "ipython3",
   "version": "3.7.0"
  },
  "toc": {
   "base_numbering": 1,
   "nav_menu": {},
   "number_sections": true,
   "sideBar": true,
   "skip_h1_title": false,
   "title_cell": "Table of Contents",
   "title_sidebar": "Contents",
   "toc_cell": false,
   "toc_position": {},
   "toc_section_display": true,
   "toc_window_display": false
  },
  "varInspector": {
   "cols": {
    "lenName": 16,
    "lenType": 16,
    "lenVar": 40
   },
   "kernels_config": {
    "python": {
     "delete_cmd_postfix": "",
     "delete_cmd_prefix": "del ",
     "library": "var_list.py",
     "varRefreshCmd": "print(var_dic_list())"
    },
    "r": {
     "delete_cmd_postfix": ") ",
     "delete_cmd_prefix": "rm(",
     "library": "var_list.r",
     "varRefreshCmd": "cat(var_dic_list()) "
    }
   },
   "types_to_exclude": [
    "module",
    "function",
    "builtin_function_or_method",
    "instance",
    "_Feature"
   ],
   "window_display": false
  }
 },
 "nbformat": 4,
 "nbformat_minor": 2
}

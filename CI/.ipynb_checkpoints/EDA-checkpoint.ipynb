{
 "cells": [
  {
   "cell_type": "code",
   "execution_count": null,
   "metadata": {},
   "outputs": [],
   "source": [
    "import numpy as np\n",
    "import pandas as pd\n",
    "import matplotlib.pyplot as plt"
   ]
  },
  {
   "cell_type": "code",
   "execution_count": null,
   "metadata": {},
   "outputs": [],
   "source": [
    "class EDA_4_01Package:\n",
    "    def __init__(self, C, n, pn, cn, N, m, max_epoch=20):\n",
    "        self.C = C #背包容量\n",
    "        self.n = n #物品数\n",
    "        if n != len(pn) or n != len(cn) or len(cn) != len(pn):\n",
    "            print(\"数据异常\")\n",
    "            exit(0)\n",
    "        self.pn = pn #价值列表\n",
    "        self.cn = cn #容量列表\n",
    "        self.N  = N  #种群个数\n",
    "        self.m  = m  #选出的种群数\n",
    "        self.ed = 0.5 * np.ones(self.n)  #初始概率分布ed-取1的概率为0.5\n",
    "        self.groups  = self.generateGroups()  #根据概率分布生成种群\n",
    "        self.optimalValue = None #当前最优值\n",
    "        self.optimalSolution = None #当前最优解\n",
    "        self.max_epoch = max_epoch  #最大迭代次数\n",
    "        return\n",
    "    \n",
    "    def generateGroups(self):\n",
    "        groups = list()\n",
    "        for i in range(self.N):\n",
    "            group = np.zeros(self.n)\n",
    "            rlist = np.random.rand(self.n) #0-1随机数\n",
    "            group[rlist <= self.ed] = 1 #0-1随机数小于等于概率分布为1，否则0\n",
    "            groups.append(group)\n",
    "        return np.array(groups)\n",
    "    \n",
    "    def getBestMGroups(self): #选出最优的m个个体\n",
    "        fitValues = list()\n",
    "        for group in self.groups:\n",
    "            f = - np.sum(group * self.pn) + 1e5 * np.square(np.min([0, self.C-np.sum(group * self.cn)]))\n",
    "            fitValues.append(f)\n",
    "        temp = fitValues.copy()\n",
    "        temp.sort() #数据规模小，考虑使用排序，可采用selectK算法\n",
    "        self.optimalValue = -temp[0]  #保存最优值\n",
    "        self.optimalSolution = self.groups[np.argmin(fitValues)]  #保存最优解\n",
    "        threshold = temp[int(self.m-1)] #获取第m位\n",
    "        selected = list()\n",
    "        for i, f in enumerate(fitValues):\n",
    "            if len(selected) < self.m:\n",
    "                if f <= threshold:\n",
    "                    selected.append(i)\n",
    "            else:\n",
    "                break\n",
    "        return self.groups[selected]\n",
    "    \n",
    "    def setupED(self,bestM): #根据选出的最优m个个体，建立概率模型\n",
    "        newED = np.sum(bestM,axis=0) / self.m\n",
    "        return newED\n",
    "        \n",
    "    def evolute_2_max_epoch(self):\n",
    "        t = 0 \n",
    "        value = -np.inf\n",
    "        solution = None\n",
    "        while t < self.max_epoch:\n",
    "            t += 1\n",
    "            bestM = self.getBestMGroups()\n",
    "            '''\n",
    "            if abs(self.optimalValue - value) < 1e-5:\n",
    "                break\n",
    "            else:\n",
    "                value = self.optimalValue\n",
    "                solution = self.optimalSolution\n",
    "            '''\n",
    "            value = self.optimalValue\n",
    "            solution = self.optimalSolution \n",
    "            self.ed = self.setupED(bestM)\n",
    "            self.groups = self.generateGroups()\n",
    "        #print(\"共迭代:\",str(t),\"次\")\n",
    "        #print(\"最优值:\",str(value))\n",
    "        #print(\"最优解:\",solution)\n",
    "        return t, value, solution\n",
    "    \n",
    "    def evolute_2_not_change(self):\n",
    "        t = 0 \n",
    "        value = -np.inf\n",
    "        solution = None\n",
    "        while t < self.max_epoch:\n",
    "            t += 1\n",
    "            bestM = self.getBestMGroups()\n",
    "            if abs(self.optimalValue - value) < 1e-5:\n",
    "                break\n",
    "            else:\n",
    "                value = self.optimalValue\n",
    "                solution = self.optimalSolution\n",
    "            '''\n",
    "            value = self.optimalValue\n",
    "            solution = self.optimalSolution \n",
    "            '''\n",
    "            self.ed = self.setupED(bestM)\n",
    "            self.groups = self.generateGroups()\n",
    "        #print(\"共迭代:\",str(t),\"次\")\n",
    "        #print(\"最优值:\",str(value))\n",
    "        #print(\"最优解:\",solution)\n",
    "        return t, value, solution\n",
    "        "
   ]
  },
  {
   "cell_type": "code",
   "execution_count": null,
   "metadata": {},
   "outputs": [],
   "source": [
    "n = 10\n",
    "C = 269\n",
    "pn = np.array([55,10,47,5,4,50,8,61,85,87])\n",
    "cn = np.array([95,4,60,32,23,72,80,62,65,46])\n",
    "N = 1000\n",
    "m = 0.4 * N"
   ]
  },
  {
   "cell_type": "code",
   "execution_count": null,
   "metadata": {},
   "outputs": [],
   "source": [
    "#eda = EDA_4_01Package(C, n, pn, cn, N, m)\n",
    "#t, optimalValue, optimalSolution = eda.evolute()"
   ]
  },
  {
   "cell_type": "code",
   "execution_count": null,
   "metadata": {},
   "outputs": [],
   "source": [
    "def lab1(EDA_4_01Package, C, n, pn, cn, N, m, times=100):\n",
    "    v_list = list() #平均值\n",
    "    t_list = list() #平均迭代次数\n",
    "    for epochs in range(1,21):\n",
    "        v_temp = list()\n",
    "        for i in range(times):\n",
    "            eda = EDA_4_01Package(C, n, pn, cn, N, m, max_epoch=epochs)\n",
    "            t, optimalValue, optimalSolution = eda.evolute_2_max_epoch()\n",
    "            v_temp.append(optimalValue)\n",
    "        v_list.append(np.mean(v_temp))\n",
    "        t_list.append(epochs)    \n",
    "    x = list(range(1,len(t_list)+1)) #迭代次数取值\n",
    "    y = [295]*len(t_list) #最优值\n",
    "    x_ticks = np.arange(0, len(t_list)+1, 1)\n",
    "    plt.xticks(x_ticks)\n",
    "    plt.ylim(285,301)\n",
    "    plt.title(\"N: \"+str(N)+\"  m: \"+ str(m))\n",
    "    plt.xlabel(\"Iteration\")\n",
    "    plt.ylabel(\"Total Value\")\n",
    "    plt.plot(t_list, v_list, label='Average')\n",
    "    plt.plot(x, y, label='Optimal', linestyle=\"--\")\n",
    "    plt.legend()\n",
    "    plt.savefig(\"最好值与平均值的迭代过程.png\")\n",
    "    plt.show()\n",
    "    return"
   ]
  },
  {
   "cell_type": "code",
   "execution_count": null,
   "metadata": {},
   "outputs": [],
   "source": [
    "lab1(EDA_4_01Package, C, n, pn, cn, N, m)"
   ]
  },
  {
   "cell_type": "code",
   "execution_count": null,
   "metadata": {},
   "outputs": [],
   "source": [
    "def lab2(EDA_4_01Package, C, n, pn, cn, times=100):\n",
    "    v_list = list() #平均值\n",
    "    t_min  = list() #最少迭代次数\n",
    "    t_max  = list() #最多迭代次数\n",
    "    t_list = list() #平均值迭代次数\n",
    "    for N in range(100,1001,100):\n",
    "        v_temp = list()\n",
    "        t_temp = list()\n",
    "        for i in range(times):\n",
    "            m = 0.5 * N\n",
    "            eda = EDA_4_01Package(C, n, pn, cn, N, m)\n",
    "            t, optimalValue, optimalSolution = eda.evolute_2_not_change()\n",
    "            v_temp.append(optimalValue)\n",
    "            t_temp.append(t)\n",
    "        t_min.append(np.min(t_temp))\n",
    "        t_max.append(np.max(t_temp))\n",
    "        v_list.append(np.mean(v_temp))\n",
    "        t_list.append(np.mean(t_temp))    \n",
    "    res = list()\n",
    "    res.append(list(range(100,1001,100))) #N的取值\n",
    "    res.append(t_list)\n",
    "    res.append(t_min)\n",
    "    res.append(t_max)\n",
    "    res.append(v_list)\n",
    "    res = pd.DataFrame(np.array(res).T)\n",
    "    res.columns = ['N','平均值迭代数/次','最少迭代数/次','最多迭代数/次','平均值/元']\n",
    "    return res"
   ]
  },
  {
   "cell_type": "code",
   "execution_count": null,
   "metadata": {},
   "outputs": [],
   "source": [
    "res = lab2(EDA_4_01Package, C, n, pn, cn)\n",
    "res.to_excel('N取不同值结果比较.xlsx', index=False)\n",
    "res"
   ]
  },
  {
   "cell_type": "code",
   "execution_count": null,
   "metadata": {},
   "outputs": [],
   "source": [
    "def lab3(EDA_4_01Package, C, n, pn, cn, N=800, times=100):\n",
    "    v_list = list() #平均值\n",
    "    t_min  = list() #最少迭代次数\n",
    "    t_max  = list() #最多迭代次数\n",
    "    t_list = list() #平均值迭代次数\n",
    "    m_div_N = [0.025,0.05,0.1,0.2,0.3,0.4,0.5,0.6] \n",
    "    for ratio in m_div_N:\n",
    "        v_temp = list()\n",
    "        t_temp = list()\n",
    "        for i in range(times):\n",
    "            m = ratio * N\n",
    "            eda = EDA_4_01Package(C, n, pn, cn, N, m)\n",
    "            t, optimalValue, optimalSolution = eda.evolute_2_not_change()\n",
    "            v_temp.append(optimalValue)\n",
    "            t_temp.append(t)\n",
    "        t_min.append(np.min(t_temp))\n",
    "        t_max.append(np.max(t_temp))\n",
    "        v_list.append(np.mean(v_temp))\n",
    "        t_list.append(np.mean(t_temp))    \n",
    "    res = list()\n",
    "    res.append(m_div_N) # m/N的取值\n",
    "    res.append(t_list)\n",
    "    res.append(t_min)\n",
    "    res.append(t_max)\n",
    "    res.append(v_list)\n",
    "    res = pd.DataFrame(np.array(res).T)\n",
    "    res.columns = ['m/N','平均值迭代数/次','最少迭代数/次','最多迭代数/次','平均值/元']\n",
    "    return res"
   ]
  },
  {
   "cell_type": "code",
   "execution_count": null,
   "metadata": {},
   "outputs": [],
   "source": [
    "res = lab3(EDA_4_01Package, C, n, pn, cn)\n",
    "res.to_excel('m_div_N取不同值结果比较.xlsx',index=False)\n",
    "res"
   ]
  },
  {
   "cell_type": "code",
   "execution_count": null,
   "metadata": {},
   "outputs": [],
   "source": []
  }
 ],
 "metadata": {
  "hide_input": false,
  "kernelspec": {
   "display_name": "Python 3",
   "language": "python",
   "name": "python3"
  },
  "language_info": {
   "codemirror_mode": {
    "name": "ipython",
    "version": 3
   },
   "file_extension": ".py",
   "mimetype": "text/x-python",
   "name": "python",
   "nbconvert_exporter": "python",
   "pygments_lexer": "ipython3",
   "version": "3.7.0"
  },
  "toc": {
   "base_numbering": 1,
   "nav_menu": {},
   "number_sections": true,
   "sideBar": true,
   "skip_h1_title": false,
   "title_cell": "Table of Contents",
   "title_sidebar": "Contents",
   "toc_cell": false,
   "toc_position": {},
   "toc_section_display": true,
   "toc_window_display": false
  },
  "varInspector": {
   "cols": {
    "lenName": 16,
    "lenType": 16,
    "lenVar": 40
   },
   "kernels_config": {
    "python": {
     "delete_cmd_postfix": "",
     "delete_cmd_prefix": "del ",
     "library": "var_list.py",
     "varRefreshCmd": "print(var_dic_list())"
    },
    "r": {
     "delete_cmd_postfix": ") ",
     "delete_cmd_prefix": "rm(",
     "library": "var_list.r",
     "varRefreshCmd": "cat(var_dic_list()) "
    }
   },
   "types_to_exclude": [
    "module",
    "function",
    "builtin_function_or_method",
    "instance",
    "_Feature"
   ],
   "window_display": false
  }
 },
 "nbformat": 4,
 "nbformat_minor": 2
}

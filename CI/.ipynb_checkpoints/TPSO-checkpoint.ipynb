{
 "cells": [
  {
   "cell_type": "code",
   "execution_count": null,
   "metadata": {},
   "outputs": [],
   "source": [
    "import random\n",
    "import math\n",
    "import numpy as np\n",
    "import pandas as pd\n",
    "from scipy.spatial.distance import pdist\n",
    "from scipy.spatial.distance import squareform\n",
    "import matplotlib.pyplot as plt"
   ]
  },
  {
   "cell_type": "code",
   "execution_count": null,
   "metadata": {},
   "outputs": [],
   "source": [
    "data = np.array(pd.read_excel(\"../dataSet/Oliver30.xlsx\",header=None))\n",
    "plt.title(\"Cities\")\n",
    "plt.scatter(data[:,0],data[:,1],s=5)\n",
    "plt.show()"
   ]
  },
  {
   "cell_type": "code",
   "execution_count": null,
   "metadata": {},
   "outputs": [],
   "source": [
    "class PSO_4_TSP():\n",
    "    def __init__(self, data, m, max_epoch):\n",
    "        self.dist  = squareform(pdist(data, metric='euclidean'))  # 计算N个城市的距离矩阵\n",
    "        self.cityNums = data.shape[0]  #城市数目\n",
    "        self.max_epoch = max_epoch #最大迭代次数\n",
    "        self.area = data.shape[0]  # 最大范围限制，最小默认为0\n",
    "        ptemp = list()\n",
    "        # 初始化粒子群位置\n",
    "        for i in range(self.m):\n",
    "            ptemp.append(random.sample(range(self.cityNums), self.cityNums))\n",
    "        self.particles = np.array(ptemp)#.T  # 粒子群位置\n",
    "        self.pbestPositions = np.zeros((self.m, self.particles.shape[1])) # 粒子群个体的最佳位置-局部最优解   粒子数*城市数\n",
    "        self.pbestValues = np.ones(self.m) * np.inf # 粒子群个体的最佳适应值-局部最优值   1*粒子数\n",
    "        self.gbestSolution = self.pbestPositions[0] # 粒子群的最佳位置   1*城市数\n",
    "        self.gbestValue = np.inf # 粒子群的最佳适应值   1\n",
    "        return\n",
    "    \n",
    "    def calcuValue(self, solution):  # 计算状态值\n",
    "        value = 0\n",
    "        for c in range(self.cityNums-1):\n",
    "            value += self.dist[int(solution[c]), int(solution[c+1])]\n",
    "        value += self.dist[int(solution[0]), int(solution[-1])]\n",
    "        return value\n",
    "    \n",
    "    def pbest(self):\n",
    "        for i,p in enumerate(self.particles):\n",
    "            fitValue = self.calcuValue(p)\n",
    "            if fitValue < self.pbestValues[i]:\n",
    "                self.pbestValues[i] = fitValue\n",
    "                self.pbestPositions[i] = p\n",
    "        return\n",
    "    \n",
    "    def update(self):   # 有序交叉法\n",
    "        for k, i in enumerate(self.particles):\n",
    "            x1 = i\n",
    "            for flag in range(2):\n",
    "                if flag == 0:\n",
    "                    x = self.gbestSolution\n",
    "                else:\n",
    "                    x = self.pbestPositions[k]\n",
    "                positions = random.sample(range(self.cityNums), 2)  # 随机两个交叉位\n",
    "                positions.sort()\n",
    "                com1  = list(x1[positions[0]:positions[1]+1])\n",
    "                com2  = list(x[positions[0]:positions[1]+1])\n",
    "                limit = list(range(positions[0])) + list(range(positions[1]+1, self.cityNums))\n",
    "                for p in limit:            \n",
    "                    temp = x1[p]\n",
    "                    if x[p] not in com1:\n",
    "                        x1[p] = x[p]\n",
    "                    else:\n",
    "                        index = com1.index(x[p])\n",
    "                        while com2[index] in com1:\n",
    "                            index = com1.index(com2[index])\n",
    "                        x1[p] = com2[index]  \n",
    "        return\n",
    "    \n",
    "    def electBest(self):\n",
    "        for k, p in enumerate(self.pbestPositions):\n",
    "            v = self.calcuValue(p)\n",
    "            if v < self.gbestValue:\n",
    "                self.gbestValue = v\n",
    "                self.gbestSolution = self.pbestPositions[k]    \n",
    "        return\n",
    "    \n",
    "    def evolute(self):\n",
    "        i = 0 \n",
    "        self.pbest()\n",
    "        while i < self.max_epoch: # 达到最大迭代次数，停止迭代\n",
    "            i += 1\n",
    "            # 全局搜索\n",
    "            self.update()\n",
    "            self.pbest()\n",
    "            # 选举出当前最优解/值\n",
    "            self.electBest()\n",
    "            print(i)\n",
    "        print('最优解:', self.gbestSolution)\n",
    "        print('最优值:', self.gbestValue)\n",
    "        return self.gbestValue, self.gbestSolution"
   ]
  }
 ],
 "metadata": {
  "hide_input": false,
  "kernelspec": {
   "display_name": "Python 3",
   "language": "python",
   "name": "python3"
  },
  "language_info": {
   "codemirror_mode": {
    "name": "ipython",
    "version": 3
   },
   "file_extension": ".py",
   "mimetype": "text/x-python",
   "name": "python",
   "nbconvert_exporter": "python",
   "pygments_lexer": "ipython3",
   "version": "3.7.0"
  },
  "toc": {
   "base_numbering": 1,
   "nav_menu": {},
   "number_sections": true,
   "sideBar": true,
   "skip_h1_title": false,
   "title_cell": "Table of Contents",
   "title_sidebar": "Contents",
   "toc_cell": false,
   "toc_position": {},
   "toc_section_display": true,
   "toc_window_display": false
  },
  "varInspector": {
   "cols": {
    "lenName": 16,
    "lenType": 16,
    "lenVar": 40
   },
   "kernels_config": {
    "python": {
     "delete_cmd_postfix": "",
     "delete_cmd_prefix": "del ",
     "library": "var_list.py",
     "varRefreshCmd": "print(var_dic_list())"
    },
    "r": {
     "delete_cmd_postfix": ") ",
     "delete_cmd_prefix": "rm(",
     "library": "var_list.r",
     "varRefreshCmd": "cat(var_dic_list()) "
    }
   },
   "types_to_exclude": [
    "module",
    "function",
    "builtin_function_or_method",
    "instance",
    "_Feature"
   ],
   "window_display": false
  }
 },
 "nbformat": 4,
 "nbformat_minor": 2
}

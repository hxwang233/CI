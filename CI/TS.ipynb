{
 "cells": [
  {
   "cell_type": "code",
   "execution_count": 1,
   "metadata": {},
   "outputs": [],
   "source": [
    "import numpy as np\n",
    "import pandas as pd\n",
    "import random\n",
    "from scipy.spatial.distance import pdist\n",
    "from scipy.spatial.distance import squareform\n",
    "import matplotlib.pyplot as plt"
   ]
  },
  {
   "cell_type": "code",
   "execution_count": 60,
   "metadata": {},
   "outputs": [],
   "source": [
    "class TS_4_TSP():\n",
    "    def __init__(self, data, tabuLen, selectNum, threshold, max_epoch):\n",
    "        self.cityNum = data.shape[0]\n",
    "        self.threshold = threshold  # 每个初始解未下降次数阈值\n",
    "        self.dist = squareform(pdist(data, metric='euclidean'))  # 计算N个城市的距离矩阵 \n",
    "        self.selectNum = selectNum  # 从领域中选择的领域解数目\n",
    "        self.tabuLen = tabuLen      # 此处禁忌长度=禁忌表大小\n",
    "        self.max_epoch = max_epoch  # 最大迭代次数\n",
    "        solutions = list() #多初始点\n",
    "        for c in range(self.cityNum):\n",
    "            cities = list(range(self.cityNum))\n",
    "            cities.remove(c)\n",
    "            templist = random.sample(cities, self.cityNum-1)\n",
    "            templist.append(c)\n",
    "            templist.reverse()\n",
    "            solutions.append(templist)\n",
    "        self.solutions = solutions # 初始解-城市的全排列 list类型\n",
    "        self.values = np.inf * np.ones(self.cityNum)  # 当前状态值\n",
    "        for i in range(self.cityNum):  #计算当前状态值\n",
    "            self.values[i] = self.calcuValue(self.solutions[i])\n",
    "        self.valuesNotDownCount = np.zeros(self.cityNum)\n",
    "        self.tabus = list()\n",
    "        for i in range(self.cityNum):\n",
    "            self.tabus.append(list())\n",
    "        return\n",
    "    \n",
    "    def calcuValue(self, solution):  # 计算目标值-距离\n",
    "        value = 0\n",
    "        for c in range(self.cityNum-1):\n",
    "            value += self.dist[solution[c], solution[c+1]]\n",
    "        value += self.dist[solution[0], solution[self.cityNum-1]]\n",
    "        return value\n",
    "        \n",
    "    def pick_from_Nx(self, x):  # 从当前状态领域中挑选一个状态\n",
    "        # input x - 当前解 - 一个城市的全排列\n",
    "        # return 城市的全排列 list类型\n",
    "        initcity = x[0]\n",
    "        flag = True\n",
    "        while flag:\n",
    "            exchange_index = sorted(random.sample(range(1,self.cityNum), 2))\n",
    "            exchange = (x[exchange_index[0]],x[exchange_index[1]])\n",
    "            if exchange in self.tabus[initcity]:\n",
    "                continue   \n",
    "            solution = x.copy()\n",
    "            solution[exchange_index[0]] = x[exchange_index[1]]\n",
    "            solution[exchange_index[1]] = x[exchange_index[0]]\n",
    "            flag = False \n",
    "        return solution,exchange\n",
    "    \n",
    "    def getNx(self, x):\n",
    "        initcity = x[0]\n",
    "        i = 0\n",
    "        index = 0\n",
    "        nxSet = list()\n",
    "        best = np.inf\n",
    "        exchange = None\n",
    "        while i < self.selectNum:\n",
    "            new,change = self.pick_from_Nx(x)\n",
    "            if new not in nxSet:\n",
    "                value = self.calcuValue(new)\n",
    "                if value < best:\n",
    "                    best = value\n",
    "                    index = i\n",
    "                    exchange = change\n",
    "                nxSet.append(new)\n",
    "                i += 1\n",
    "        if best < self.values[initcity]:\n",
    "            self.solutions[initcity] = nxSet[index][:self.cityNum]\n",
    "            self.values[initcity] = best\n",
    "            self.valuesNotDownCount[initcity] = 0\n",
    "            if len(self.tabus[initcity]) < self.tabuLen:\n",
    "                self.tabus[initcity].append(exchange)\n",
    "            else:\n",
    "                temp = list()\n",
    "                for i in range(1,self.tabuLen):\n",
    "                    temp.append(self.tabus[initcity][i])\n",
    "                temp.append(exchange)\n",
    "                self.tabus[initcity] = temp    \n",
    "        else:\n",
    "            self.valuesNotDownCount[initcity] += 1\n",
    "        return\n",
    "    \n",
    "    def run(self):\n",
    "        t = 0\n",
    "        iterate = list()\n",
    "        while t < self.max_epoch:\n",
    "            t += 1\n",
    "            for i, s in enumerate(self.solutions): \n",
    "                self.getNx(s)\n",
    "            for j, c in enumerate(self.valuesNotDownCount):\n",
    "                if c > self.threshold and len(self.tabus[j])>0:\n",
    "                    self.tabus[j].pop(-1)\n",
    "            iterate.append(np.min(self.values))\n",
    "        return self.values, self.solutions, iterate\n",
    "            "
   ]
  },
  {
   "cell_type": "code",
   "execution_count": 2,
   "metadata": {},
   "outputs": [
    {
     "data": {
      "image/png": "[encoded data removed]",
      "text/plain": [
       "<Figure size 432x288 with 1 Axes>"
      ]
     },
     "metadata": {
      "needs_background": "light"
     },
     "output_type": "display_data"
    },
    {
     "data": {
      "text/plain": [
       "array([[0.        , 0.33605501, 0.31405676, 0.36012623, 0.51109555,\n",
       "        0.51758316, 0.29818256, 0.45641039, 0.32893613, 0.28211943],\n",
       "       [0.33605501, 0.        , 0.11066725, 0.61487336, 0.84072721,\n",
       "        0.80831416, 0.58148308, 0.6418389 , 0.4377541 , 0.38966652],\n",
       "       [0.31405676, 0.11066725, 0.        , 0.53491948, 0.79188343,\n",
       "        0.82069284, 0.59414407, 0.69075189, 0.49819298, 0.44642137],\n",
       "       [0.36012623, 0.61487336, 0.53491948, 0.        , 0.33966601,\n",
       "        0.6527955 , 0.51709869, 0.73746882, 0.67095138, 0.6310002 ],\n",
       "       [0.51109555, 0.84072721, 0.79188343, 0.33966601, 0.        ,\n",
       "        0.4578603 , 0.45290036, 0.66858443, 0.70422317, 0.68624941],\n",
       "       [0.51758316, 0.80831416, 0.82069284, 0.6527955 , 0.4578603 ,\n",
       "        0.        , 0.22741603, 0.29371525, 0.44942631, 0.46831504],\n",
       "       [0.29818256, 0.58148308, 0.59414407, 0.51709869, 0.45290036,\n",
       "        0.22741603, 0.        , 0.22768838, 0.2690077 , 0.26937292],\n",
       "       [0.45641039, 0.6418389 , 0.69075189, 0.73746882, 0.66858443,\n",
       "        0.29371525, 0.22768838, 0.        , 0.20998462, 0.25291178],\n",
       "       [0.32893613, 0.4377541 , 0.49819298, 0.67095138, 0.70422317,\n",
       "        0.44942631, 0.2690077 , 0.20998462, 0.        , 0.05311732],\n",
       "       [0.28211943, 0.38966652, 0.44642137, 0.6310002 , 0.68624941,\n",
       "        0.46831504, 0.26937292, 0.25291178, 0.05311732, 0.        ]])"
      ]
     },
     "execution_count": 2,
     "metadata": {},
     "output_type": "execute_result"
    }
   ],
   "source": [
    "data = np.array(pd.read_excel(\"../dataSet/cities3.xlsx\",header=None))\n",
    "plt.title(\"Cities\")\n",
    "plt.scatter(data[:,0],data[:,1],s=5)\n",
    "plt.show()\n",
    "squareform(pdist(data, metric='euclidean'))"
   ]
  },
  {
   "cell_type": "code",
   "execution_count": 231,
   "metadata": {},
   "outputs": [],
   "source": [
    "tabuLen = 10\n",
    "selectNum = 11\n",
    "threshold = 5\n",
    "max_epoch = 40"
   ]
  },
  {
   "cell_type": "code",
   "execution_count": 279,
   "metadata": {},
   "outputs": [
    {
     "name": "stdout",
     "output_type": "stream",
     "text": [
      "初始点 \t巡回距离 \t城市序列\n",
      "  0 \t 3.0344 \t [0, 8, 9, 1, 2, 3, 4, 5, 7, 6]\n",
      "  1 \t 2.6902 \t [1, 2, 0, 3, 4, 5, 6, 7, 8, 9]\n",
      "  2 \t 3.1556 \t [2, 6, 7, 5, 4, 3, 0, 8, 9, 1]\n",
      "  3 \t 2.6902 \t [3, 4, 5, 6, 7, 8, 9, 1, 2, 0]\n",
      "  4 \t 2.6902 \t [4, 3, 0, 2, 1, 9, 8, 7, 6, 5]\n",
      "  5 \t 2.7513 \t [5, 6, 4, 3, 0, 2, 1, 9, 8, 7]\n",
      "  6 \t 3.4091 \t [6, 8, 9, 3, 4, 5, 7, 1, 2, 0]\n",
      "  7 \t 2.6902 \t [7, 6, 5, 4, 3, 0, 2, 1, 9, 8]\n",
      "  8 \t 2.9035 \t [8, 7, 5, 4, 3, 2, 1, 0, 6, 9]\n",
      "  9 \t 3.1569 \t [9, 0, 3, 4, 5, 7, 6, 2, 1, 8]\n"
     ]
    }
   ],
   "source": [
    "ts = TS_4_TSP(data,tabuLen,selectNum,threshold,max_epoch)\n",
    "values, solutions,iterate = ts.run()\n",
    "print('初始点','\\t巡回距离','\\t城市序列')\n",
    "for i in range(data.shape[0]):\n",
    "    print(' ',i,'\\t',round(values[i],4),'\\t',solutions[i])"
   ]
  },
  {
   "cell_type": "code",
   "execution_count": 179,
   "metadata": {},
   "outputs": [
    {
     "data": {
      "image/png": "[encoded data removed]",
      "text/plain": [
       "<Figure size 432x288 with 1 Axes>"
      ]
     },
     "metadata": {
      "needs_background": "light"
     },
     "output_type": "display_data"
    }
   ],
   "source": [
    "bestIndex = np.argmin(values)\n",
    "value = round(values[bestIndex],4)\n",
    "solution = solutions[bestIndex]\n",
    "solution.append(solution[0])\n",
    "plt.title(\"Iteration: \"+str(max_epoch)+\"    Shortest distance: \"+ str(value))\n",
    "plt.scatter(data[:,0],data[:,1],s=20)\n",
    "plt.plot(data[solution,0],data[solution,1])\n",
    "fileName = \"%s%s%s\" %(\"最短路径\",str(value),\".png\")\n",
    "plt.savefig(fileName)\n",
    "plt.show()"
   ]
  },
  {
   "cell_type": "code",
   "execution_count": 280,
   "metadata": {},
   "outputs": [
    {
     "data": {
      "image/png": "[encoded data removed]",
      "text/plain": [
       "<Figure size 432x288 with 1 Axes>"
      ]
     },
     "metadata": {
      "needs_background": "light"
     },
     "output_type": "display_data"
    }
   ],
   "source": [
    "plt.title(\"Shortest distance: \"+ str(value))\n",
    "plt.plot(list(range(1,max_epoch+1)),iterate)\n",
    "plt.xlabel('Iteration')\n",
    "plt.ylabel('Shortest distance')\n",
    "fileName = \"%s%s\" %(\"收敛过程\",\".png\")\n",
    "plt.savefig(fileName)\n",
    "plt.show()"
   ]
  },
  {
   "cell_type": "code",
   "execution_count": null,
   "metadata": {},
   "outputs": [],
   "source": []
  }
 ],
 "metadata": {
  "hide_input": false,
  "kernelspec": {
   "display_name": "Python 3",
   "language": "python",
   "name": "python3"
  },
  "language_info": {
   "codemirror_mode": {
    "name": "ipython",
    "version": 3
   },
   "file_extension": ".py",
   "mimetype": "text/x-python",
   "name": "python",
   "nbconvert_exporter": "python",
   "pygments_lexer": "ipython3",
   "version": "3.7.0"
  },
  "toc": {
   "base_numbering": 1,
   "nav_menu": {},
   "number_sections": true,
   "sideBar": true,
   "skip_h1_title": false,
   "title_cell": "Table of Contents",
   "title_sidebar": "Contents",
   "toc_cell": false,
   "toc_position": {},
   "toc_section_display": true,
   "toc_window_display": false
  },
  "varInspector": {
   "cols": {
    "lenName": 16,
    "lenType": 16,
    "lenVar": 40
   },
   "kernels_config": {
    "python": {
     "delete_cmd_postfix": "",
     "delete_cmd_prefix": "del ",
     "library": "var_list.py",
     "varRefreshCmd": "print(var_dic_list())"
    },
    "r": {
     "delete_cmd_postfix": ") ",
     "delete_cmd_prefix": "rm(",
     "library": "var_list.r",
     "varRefreshCmd": "cat(var_dic_list()) "
    }
   },
   "types_to_exclude": [
    "module",
    "function",
    "builtin_function_or_method",
    "instance",
    "_Feature"
   ],
   "window_display": false
  }
 },
 "nbformat": 4,
 "nbformat_minor": 2
}

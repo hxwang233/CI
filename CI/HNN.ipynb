{
 "cells": [
  {
   "cell_type": "code",
   "execution_count": 1,
   "metadata": {},
   "outputs": [],
   "source": [
    "import pandas as pd\n",
    "import numpy as np\n",
    "import time"
   ]
  },
  {
   "cell_type": "code",
   "execution_count": 2,
   "metadata": {},
   "outputs": [],
   "source": [
    "data = pd.read_excel('../dataSet/dis.xlsx', header= None)\n",
    "data = np.array(data)"
   ]
  },
  {
   "cell_type": "code",
   "execution_count": 3,
   "metadata": {},
   "outputs": [],
   "source": [
    "class HNN():\n",
    "    def __init__(self, A, B, C, D, u0, delta, max_epochs, data):\n",
    "        self.A  = A  \n",
    "        self.B  = B\n",
    "        self.C  = C\n",
    "        self.D  = D\n",
    "        self.u0 = u0 #状态方程参数u0\n",
    "        self.data  = data  # 城市距离数据\n",
    "        self.node  = len(data)  # 总节点数 = self.node * self.node\n",
    "        self.delta = delta  # 状态方程步长参数delta\n",
    "        self.max_epochs = max_epochs #最大迭代次数\n",
    "        self.U = np.random.uniform(low = -0.1, high = 0.1, size = (self.node, self.node)) #U矩阵\n",
    "        self.V = np.zeros((self.node, self.node))  #神经元矩阵\n",
    "        self.E = float(\"inf\")  # 当前能量值\n",
    "        \n",
    "    def getEnergy(self):\n",
    "        # 计算当前能量\n",
    "        # t1 t2 t3为解的约束项  t4为最优解相关项\n",
    "        t1 = t2 = t3 = t4 = 0\n",
    "        for x in range(self.node):\n",
    "            for i in range(self.node):\n",
    "                for j in range(self.node):\n",
    "                    if i != j:\n",
    "                        t1 += self.V[x, i] * self.V[x, j]\n",
    "        for y in range(self.node):\n",
    "            for i in range(self.node):\n",
    "                for j in range(self.node):\n",
    "                    if i != j:\n",
    "                        t2 += self.V[i, y] * self.V[j, y]\n",
    "        t3 = np.power((np.sum(self.V) - self.node), 2)\n",
    "        for x in range(self.node):\n",
    "            for y in range(self.node):\n",
    "                if y != x:\n",
    "                    for i in range(self.node):\n",
    "                        t4 += self.data[x, y] * self.V[x, i] * (self.V[y, (i + 1) % self.node] + self.V[y, (i - 1) % self.node])\n",
    "        energy = 0.5 * (self.A * t1 + self.B * t2 + self.C * t3 + self.D * t4)\n",
    "        #print('energy',energy)\n",
    "        return energy\n",
    "    \n",
    "    def getDeltaU(self):\n",
    "        # 计算△U\n",
    "        # t1 t2 t3为解的约束项  t4为最优解相关项\n",
    "        deltaU = np.zeros((self.node, self.node))\n",
    "        for x in range(self.node):\n",
    "            for i in range(self.node):\n",
    "                t1 = sum(self.V[x]) - self.V[x, i]\n",
    "                t2 = sum(self.V.T[i]) - self.V[x, i]\n",
    "                t3 = np.sum(self.V) - self.node\n",
    "                t4 = 0\n",
    "                for y in range(self.node):\n",
    "                    if y != x :\n",
    "                        t4 += self.data[x, y]*(self.V[y, (i + 1) % self.node] + self.V[y, (i - 1) % self.node])\n",
    "                deltaU[x,i] = -(self.A * t1 + self.B * t2 + self.C * t3 + self.D * t4)\n",
    "        #print('deltaU',deltaU)\n",
    "        return deltaU\n",
    "    \n",
    "    def updateU(self, deltaU):\n",
    "        # 更新U矩阵 \n",
    "        # U += △U * δ \n",
    "        self.U += deltaU * self.delta\n",
    "        #print('U', self.U)\n",
    "        return\n",
    "    \n",
    "    def updateV(self):\n",
    "        # 更新V矩阵\n",
    "        # Vxi = 0.5 * (1+tanh(Uxi/u0)) \n",
    "        for x in range(self.node):\n",
    "            for i in range(self.node):\n",
    "                self.V[x, i] = 0.5 * (1 + np.tanh(self.U[x, i] / self.u0))\n",
    "        #print('V', self.V)\n",
    "        return\n",
    "\n",
    "    def getdist(self):\n",
    "        # 计算当前解\n",
    "        dist = 0\n",
    "        route = np.argmax(self.V, axis = 0) \n",
    "        if len(set(route)) != len(route): # 路径有重复\n",
    "            return np.nan\n",
    "        for i in range(self.node):\n",
    "            dist += self.data[route[i], route[(i + 1) % self.node]]\n",
    "        return dist\n",
    "    \n",
    "    def run(self):   \n",
    "        epoch = 0 #当前迭代次数\n",
    "        while epoch < max_epochs: #小于最大迭代次数\n",
    "            epoch = epoch + 1\n",
    "            deltaU = self.getDeltaU() #计算△U\n",
    "            self.updateU(deltaU)  #更新U矩阵\n",
    "            self.updateV() #更新V矩阵\n",
    "            energy = self.getEnergy() #计算能量值\n",
    "            if self.E - energy > 1e-10:  #是否收敛\n",
    "                self.E = energy\n",
    "            else:\n",
    "                break\n",
    "        dist = self.getdist()  #当前解\n",
    "        if np.isnan(dist):\n",
    "            epoch = np.nan\n",
    "        return epoch, dist\n",
    "      "
   ]
  },
  {
   "cell_type": "code",
   "execution_count": 4,
   "metadata": {},
   "outputs": [],
   "source": [
    "A  = 500\n",
    "B  = 500\n",
    "C  = 500\n",
    "D  = 200\n",
    "u0 = 0.02\n",
    "delta = 0.00001 \n",
    "max_epochs = 1000"
   ]
  },
  {
   "cell_type": "code",
   "execution_count": null,
   "metadata": {},
   "outputs": [],
   "source": [
    "epochs  = list() #100次实验迭代次数列表\n",
    "mindist = list() #100次实验迭最终解列表\n",
    "start = time.process_time()  #计时开始\n",
    "for i in range(100): #重复100次实验\n",
    "    hnn = HNN(A, B, C, D, u0, delta, max_epochs, data)\n",
    "    epoch, dist = hnn.run()\n",
    "    epochs.append(epoch)\n",
    "    mindist.append(dist)\n",
    "end = time.process_time()   #计时结束\n",
    "print(epochs)\n",
    "print(mindist)\n",
    "#对一百次实验取平均值\n",
    "print('平均迭代次数:', round(np.nanmean(epochs), 2))\n",
    "print('平均路径长度:', round(np.nanmean(mindist), 2))\n",
    "print('运行总时间: %s (s)'%(end-start))"
   ]
  },
  {
   "cell_type": "code",
   "execution_count": null,
   "metadata": {},
   "outputs": [],
   "source": []
  }
 ],
 "metadata": {
  "hide_input": false,
  "kernelspec": {
   "display_name": "Python 3",
   "language": "python",
   "name": "python3"
  },
  "language_info": {
   "codemirror_mode": {
    "name": "ipython",
    "version": 3
   },
   "file_extension": ".py",
   "mimetype": "text/x-python",
   "name": "python",
   "nbconvert_exporter": "python",
   "pygments_lexer": "ipython3",
   "version": "3.7.0"
  },
  "toc": {
   "base_numbering": 1,
   "nav_menu": {},
   "number_sections": true,
   "sideBar": true,
   "skip_h1_title": false,
   "title_cell": "Table of Contents",
   "title_sidebar": "Contents",
   "toc_cell": false,
   "toc_position": {},
   "toc_section_display": true,
   "toc_window_display": false
  },
  "varInspector": {
   "cols": {
    "lenName": 16,
    "lenType": 16,
    "lenVar": 40
   },
   "kernels_config": {
    "python": {
     "delete_cmd_postfix": "",
     "delete_cmd_prefix": "del ",
     "library": "var_list.py",
     "varRefreshCmd": "print(var_dic_list())"
    },
    "r": {
     "delete_cmd_postfix": ") ",
     "delete_cmd_prefix": "rm(",
     "library": "var_list.r",
     "varRefreshCmd": "cat(var_dic_list()) "
    }
   },
   "types_to_exclude": [
    "module",
    "function",
    "builtin_function_or_method",
    "instance",
    "_Feature"
   ],
   "window_display": false
  }
 },
 "nbformat": 4,
 "nbformat_minor": 2
}

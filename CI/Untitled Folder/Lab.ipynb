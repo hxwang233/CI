{
 "cells": [
  {
   "cell_type": "code",
   "execution_count": null,
   "metadata": {},
   "outputs": [],
   "source": [
    "import numpy as np\n",
    "import pandas as pd\n",
    "import random\n",
    "import matplotlib.pyplot as plt\n",
    "from scipy.spatial.distance import pdist\n",
    "from scipy.spatial.distance import squareform"
   ]
  },
  {
   "cell_type": "code",
   "execution_count": null,
   "metadata": {},
   "outputs": [],
   "source": [
    "import GA\n",
    "import TS\n",
    "import MA"
   ]
  },
  {
   "cell_type": "code",
   "execution_count": null,
   "metadata": {},
   "outputs": [],
   "source": [
    "def genertateWH(N=150, minv=-5000, maxv=5000, minlc=25, maxlc=28, unitCost=2000):\n",
    "    \"\"\"生成仓库坐标 N-仓库数 仓库坐标范围[minv,maxv] 仓库每平方米租赁费用[minlc,maxlc] unitCost-每个仓库面积/平方米\"\"\"\n",
    "    warehouses = np.random.randint(low=minv, high=maxv+1, size=(N, 2))\n",
    "    leaseCosts = np.around(np.random.randint(low=minlc, high=maxlc, size=N) + np.random.rand(N)) * unitCost\n",
    "    return warehouses, leaseCosts"
   ]
  },
  {
   "cell_type": "code",
   "execution_count": null,
   "metadata": {},
   "outputs": [],
   "source": [
    "def iterateVSvalue(namelist,tlist,epoch):\n",
    "    n = len(namelist)\n",
    "    plt.title(\"Number of iterations VS. Cost\")\n",
    "    plt.xlabel('Iteration')\n",
    "    plt.ylabel('Cost')\n",
    "    for i in range(n):\n",
    "        plt.plot(list(range(1,epoch+1)),tlist[i],label=namelist[i])\n",
    "    plt.legend()\n",
    "    fileName = \"%s%s%s%s\" %(\"收敛过程-\",\"迭代次数\",str(epoch),\".png\")\n",
    "    plt.savefig(fileName)\n",
    "    plt.show()\n",
    "    return"
   ]
  },
  {
   "cell_type": "code",
   "execution_count": null,
   "metadata": {},
   "outputs": [],
   "source": [
    "def lab1(warehouses, leaseCosts, Q=10, Y=100, n1=100, n2=20, nxbit=3, epoch=1000):\n",
    "    ts = TS.TS_4_WHouseAlloc(warehouses,leaseCosts, Q, Y, n=n1, nxbit=nxbit, max_epoch=epoch)\n",
    "    v1,s1,t1 = ts.run()\n",
    "    ga = GA.GA_4_WHouseAlloc(warehouses, leaseCosts, Q, Y, matingRate=0.8, variationRate=0.01, max_epoch=epoch)\n",
    "    v2,s2,t2 = ga.run()\n",
    "    ma = MA.MA_4_WHouseAlloc(warehouses, leaseCosts, Q, Y, matingRate=0.8, variationRate=0.01, n=n2, nxbit=nxbit, max_epoch=epoch)\n",
    "    v3,s3,t3 = ma.run()\n",
    "    iterateVSvalue(['TS','GA','MA'],[t1,t2,t3],epoch)\n",
    "    s = [s1,s2,s3]\n",
    "    var_arr=list()\n",
    "    for i in s:\n",
    "        wh = np.nonzero(i)[0]  #仓库号\n",
    "        dist = list()\n",
    "        for j in wh:\n",
    "            dist.append(np.sqrt(np.square(warehouses[j][0]) + np.square(warehouses[j][1])))\n",
    "        dist.append(np.var(dist))\n",
    "        var_arr.append(dist)\n",
    "    var_arr = np.around(np.array(var_arr).T, decimals=3)\n",
    "    var_arr = pd.DataFrame(var_arr)\n",
    "    var_arr.columns = ['TS算法','GA算法','Memetic算法']\n",
    "    var_arr.to_excel('云仓储距离商家的距离.xlsx',index=False)\n",
    "    return"
   ]
  },
  {
   "cell_type": "code",
   "execution_count": null,
   "metadata": {},
   "outputs": [],
   "source": [
    "def lab2(Q=10, Y=100, n1=100, n2=20, nxbit=3, epoch=1000):\n",
    "    v_ts = list()   # TS的最优值\n",
    "    var_ts = list() # TS的方差\n",
    "    v_ga = list()   # GA的最优值\n",
    "    var_ga = list() # GA的方差\n",
    "    v_ma = list()   # MA的最优值\n",
    "    var_ma = list() # MA的方差\n",
    "    x_list = list(range(50,501,50))\n",
    "    for n in x_list:\n",
    "        warehouses, leaseCosts = genertateWH(N = n)  #生成数据集\n",
    "        '''TS算法'''\n",
    "        ts = TS.TS_4_WHouseAlloc(warehouses,leaseCosts, Q, Y, n=n1, nxbit=nxbit, max_epoch=epoch)\n",
    "        v1,s1,t1 = ts.run()\n",
    "        v_ts.append(v1)\n",
    "        wh = np.nonzero(s1)[0]  #仓库号\n",
    "        dist = list()\n",
    "        for j in wh:\n",
    "            dist.append(np.sqrt(np.square(warehouses[j][0]) + np.square(warehouses[j][1])))\n",
    "        var_ts.append(np.var(dist))\n",
    "        '''GA算法'''\n",
    "        ga = GA.GA_4_WHouseAlloc(warehouses, leaseCosts, Q, Y, matingRate=0.8, variationRate=0.01, max_epoch=epoch)\n",
    "        v2,s2,t2 = ga.run()\n",
    "        v_ga.append(v2)\n",
    "        wh = np.nonzero(s2)[0]  #仓库号\n",
    "        dist = list()\n",
    "        for j in wh:\n",
    "            dist.append(np.sqrt(np.square(warehouses[j][0]) + np.square(warehouses[j][1])))\n",
    "        var_ga.append(np.var(dist))\n",
    "        '''Memetic算法'''\n",
    "        ma = MA.MA_4_WHouseAlloc(warehouses, leaseCosts, Q, Y, matingRate=0.8, variationRate=0.01, n=n2, nxbit=nxbit, max_epoch=epoch)\n",
    "        v3,s3,t3 = ma.run()\n",
    "        v_ma.append(v3)\n",
    "        wh = np.nonzero(s3)[0]  #仓库号\n",
    "        dist = list()\n",
    "        for j in wh:\n",
    "            dist.append(np.sqrt(np.square(warehouses[j][0]) + np.square(warehouses[j][1])))\n",
    "        var_ma.append(np.var(dist))\n",
    "    '''pic1'''\n",
    "    plt.title(\"Number of WareHouse VS. Cost\")\n",
    "    plt.xlabel('Number of WareHouse')\n",
    "    plt.ylabel('Cost')\n",
    "    plt.plot(x_list,v_ts,label='TS')\n",
    "    plt.plot(x_list,v_ga,label='GA')\n",
    "    plt.plot(x_list,v_ma,label='MA')\n",
    "    plt.legend()\n",
    "    fileName = \"%s%s%s%s\" %(\"基于三种算法的云仓储物流成本总费用多实例对比图\",\"-迭代次数\",str(epoch),\".png\")\n",
    "    plt.savefig(fileName)\n",
    "    plt.show()  \n",
    "    '''pic2'''\n",
    "    plt.title(\"Number of WareHouse VS. Distance Var\")\n",
    "    plt.xlabel('Number of WareHouse')\n",
    "    plt.ylabel('Distance Var')\n",
    "    plt.plot(x_list,var_ts,label='TS')\n",
    "    plt.plot(x_list,var_ga,label='GA')\n",
    "    plt.plot(x_list,var_ma,label='MA')\n",
    "    plt.legend()\n",
    "    fileName = \"%s%s%s%s\" %(\"基于三种算法的云仓储距离方差多实例对比图\",\"-迭代次数\",str(epoch),\".png\")\n",
    "    plt.savefig(fileName)\n",
    "    plt.show()   \n",
    "    return"
   ]
  },
  {
   "cell_type": "code",
   "execution_count": null,
   "metadata": {},
   "outputs": [],
   "source": [
    "if __name__ == '__main__':\n",
    "    warehouses, leaseCosts = genertateWH()\n",
    "    lab1(warehouses,leaseCosts)\n",
    "    lab2()"
   ]
  }
 ],
 "metadata": {
  "hide_input": false,
  "kernelspec": {
   "display_name": "Python 3",
   "language": "python",
   "name": "python3"
  },
  "language_info": {
   "codemirror_mode": {
    "name": "ipython",
    "version": 3
   },
   "file_extension": ".py",
   "mimetype": "text/x-python",
   "name": "python",
   "nbconvert_exporter": "python",
   "pygments_lexer": "ipython3",
   "version": "3.7.0"
  },
  "toc": {
   "base_numbering": 1,
   "nav_menu": {},
   "number_sections": true,
   "sideBar": true,
   "skip_h1_title": false,
   "title_cell": "Table of Contents",
   "title_sidebar": "Contents",
   "toc_cell": false,
   "toc_position": {},
   "toc_section_display": true,
   "toc_window_display": false
  },
  "varInspector": {
   "cols": {
    "lenName": 16,
    "lenType": 16,
    "lenVar": 40
   },
   "kernels_config": {
    "python": {
     "delete_cmd_postfix": "",
     "delete_cmd_prefix": "del ",
     "library": "var_list.py",
     "varRefreshCmd": "print(var_dic_list())"
    },
    "r": {
     "delete_cmd_postfix": ") ",
     "delete_cmd_prefix": "rm(",
     "library": "var_list.r",
     "varRefreshCmd": "cat(var_dic_list()) "
    }
   },
   "types_to_exclude": [
    "module",
    "function",
    "builtin_function_or_method",
    "instance",
    "_Feature"
   ],
   "window_display": false
  }
 },
 "nbformat": 4,
 "nbformat_minor": 2
}
